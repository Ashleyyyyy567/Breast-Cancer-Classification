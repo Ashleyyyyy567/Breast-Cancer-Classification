{
 "cells": [
  {
   "cell_type": "markdown",
   "metadata": {},
   "source": [
    "# Breast Cancer Classification"
   ]
  },
  {
   "cell_type": "code",
   "execution_count": 1,
   "metadata": {},
   "outputs": [],
   "source": [
    "import IPython.display as display\n",
    "from PIL import Image\n",
    "import numpy as np\n",
    "import matplotlib.pyplot as plt\n",
    "import os\n",
    "import torch\n",
    "from torch.utils import data"
   ]
  },
  {
   "cell_type": "code",
   "execution_count": 191,
   "metadata": {},
   "outputs": [],
   "source": [
    "from sklearn.model_selection import train_test_split"
   ]
  },
  {
   "cell_type": "code",
   "execution_count": 77,
   "metadata": {},
   "outputs": [],
   "source": [
    "from os import path\n",
    "import pandas as pd\n",
    "from collections import defaultdict\n",
    "from skimage import io, transform"
   ]
  },
  {
   "cell_type": "code",
   "execution_count": 144,
   "metadata": {},
   "outputs": [],
   "source": [
    "from PIL import Image\n",
    "import os.path"
   ]
  },
  {
   "cell_type": "code",
   "execution_count": 3,
   "metadata": {},
   "outputs": [
    {
     "name": "stderr",
     "output_type": "stream",
     "text": [
      "/anaconda3/lib/python3.7/site-packages/tensorflow/python/framework/dtypes.py:516: FutureWarning: Passing (type, 1) or '1type' as a synonym of type is deprecated; in a future version of numpy, it will be understood as (type, (1,)) / '(1,)type'.\n",
      "  _np_qint8 = np.dtype([(\"qint8\", np.int8, 1)])\n",
      "/anaconda3/lib/python3.7/site-packages/tensorflow/python/framework/dtypes.py:517: FutureWarning: Passing (type, 1) or '1type' as a synonym of type is deprecated; in a future version of numpy, it will be understood as (type, (1,)) / '(1,)type'.\n",
      "  _np_quint8 = np.dtype([(\"quint8\", np.uint8, 1)])\n",
      "/anaconda3/lib/python3.7/site-packages/tensorflow/python/framework/dtypes.py:518: FutureWarning: Passing (type, 1) or '1type' as a synonym of type is deprecated; in a future version of numpy, it will be understood as (type, (1,)) / '(1,)type'.\n",
      "  _np_qint16 = np.dtype([(\"qint16\", np.int16, 1)])\n",
      "/anaconda3/lib/python3.7/site-packages/tensorflow/python/framework/dtypes.py:519: FutureWarning: Passing (type, 1) or '1type' as a synonym of type is deprecated; in a future version of numpy, it will be understood as (type, (1,)) / '(1,)type'.\n",
      "  _np_quint16 = np.dtype([(\"quint16\", np.uint16, 1)])\n",
      "/anaconda3/lib/python3.7/site-packages/tensorflow/python/framework/dtypes.py:520: FutureWarning: Passing (type, 1) or '1type' as a synonym of type is deprecated; in a future version of numpy, it will be understood as (type, (1,)) / '(1,)type'.\n",
      "  _np_qint32 = np.dtype([(\"qint32\", np.int32, 1)])\n",
      "/anaconda3/lib/python3.7/site-packages/tensorflow/python/framework/dtypes.py:525: FutureWarning: Passing (type, 1) or '1type' as a synonym of type is deprecated; in a future version of numpy, it will be understood as (type, (1,)) / '(1,)type'.\n",
      "  np_resource = np.dtype([(\"resource\", np.ubyte, 1)])\n",
      "/anaconda3/lib/python3.7/site-packages/tensorboard/compat/tensorflow_stub/dtypes.py:541: FutureWarning: Passing (type, 1) or '1type' as a synonym of type is deprecated; in a future version of numpy, it will be understood as (type, (1,)) / '(1,)type'.\n",
      "  _np_qint8 = np.dtype([(\"qint8\", np.int8, 1)])\n",
      "/anaconda3/lib/python3.7/site-packages/tensorboard/compat/tensorflow_stub/dtypes.py:542: FutureWarning: Passing (type, 1) or '1type' as a synonym of type is deprecated; in a future version of numpy, it will be understood as (type, (1,)) / '(1,)type'.\n",
      "  _np_quint8 = np.dtype([(\"quint8\", np.uint8, 1)])\n",
      "/anaconda3/lib/python3.7/site-packages/tensorboard/compat/tensorflow_stub/dtypes.py:543: FutureWarning: Passing (type, 1) or '1type' as a synonym of type is deprecated; in a future version of numpy, it will be understood as (type, (1,)) / '(1,)type'.\n",
      "  _np_qint16 = np.dtype([(\"qint16\", np.int16, 1)])\n",
      "/anaconda3/lib/python3.7/site-packages/tensorboard/compat/tensorflow_stub/dtypes.py:544: FutureWarning: Passing (type, 1) or '1type' as a synonym of type is deprecated; in a future version of numpy, it will be understood as (type, (1,)) / '(1,)type'.\n",
      "  _np_quint16 = np.dtype([(\"quint16\", np.uint16, 1)])\n",
      "/anaconda3/lib/python3.7/site-packages/tensorboard/compat/tensorflow_stub/dtypes.py:545: FutureWarning: Passing (type, 1) or '1type' as a synonym of type is deprecated; in a future version of numpy, it will be understood as (type, (1,)) / '(1,)type'.\n",
      "  _np_qint32 = np.dtype([(\"qint32\", np.int32, 1)])\n",
      "/anaconda3/lib/python3.7/site-packages/tensorboard/compat/tensorflow_stub/dtypes.py:550: FutureWarning: Passing (type, 1) or '1type' as a synonym of type is deprecated; in a future version of numpy, it will be understood as (type, (1,)) / '(1,)type'.\n",
      "  np_resource = np.dtype([(\"resource\", np.ubyte, 1)])\n"
     ]
    }
   ],
   "source": [
    "import tensorflow as tf\n",
    "from PIL import Image\n",
    "import numpy as np\n",
    "import cv2\n",
    "import glob"
   ]
  },
  {
   "cell_type": "code",
   "execution_count": 37,
   "metadata": {},
   "outputs": [],
   "source": [
    "rootdir = '/Users/yingyinxiao/breast_cancer'\n",
    "path_malignant = '/data/malignant'\n",
    "path_benign = '/data/benign'"
   ]
  },
  {
   "cell_type": "markdown",
   "metadata": {},
   "source": [
    "### Create the CSV file\n",
    "- png name with directory\n",
    "- pixel numbers\n",
    "- categories\n",
    "- 1/0"
   ]
  },
  {
   "cell_type": "code",
   "execution_count": 82,
   "metadata": {},
   "outputs": [
    {
     "data": {
      "text/plain": [
       "['untitled folder',\n",
       " '.DS_Store',\n",
       " 'csv.csv',\n",
       " 'Yingyin.ipynb',\n",
       " 'README.md',\n",
       " '.ipynb_checkpoints',\n",
       " '.git']"
      ]
     },
     "execution_count": 82,
     "metadata": {},
     "output_type": "execute_result"
    }
   ],
   "source": [
    "os.listdir()"
   ]
  },
  {
   "cell_type": "code",
   "execution_count": 120,
   "metadata": {},
   "outputs": [],
   "source": [
    "dic4csv = defaultdict(list)"
   ]
  },
  {
   "cell_type": "code",
   "execution_count": 121,
   "metadata": {},
   "outputs": [],
   "source": [
    "index = 0\n",
    "for root, dirs, files in os.walk(rootdir):\n",
    "    for file in files:\n",
    "        if file.endswith(\".png\"):\n",
    "            full_path = ''\n",
    "            values = root.split('/')\n",
    "            ordered = [x for x in values if x]\n",
    "            ordered.append(file)\n",
    "            \n",
    "            for i in ordered:\n",
    "                full_path+='/'+i\n",
    "\n",
    "            dic4csv[index] = [values[-2], values[-3], values[-4], values[-1], index, full_path]\n",
    "            index +=1"
   ]
  },
  {
   "cell_type": "code",
   "execution_count": 123,
   "metadata": {},
   "outputs": [
    {
     "data": {
      "text/html": [
       "<div>\n",
       "<style scoped>\n",
       "    .dataframe tbody tr th:only-of-type {\n",
       "        vertical-align: middle;\n",
       "    }\n",
       "\n",
       "    .dataframe tbody tr th {\n",
       "        vertical-align: top;\n",
       "    }\n",
       "\n",
       "    .dataframe thead th {\n",
       "        text-align: right;\n",
       "    }\n",
       "</style>\n",
       "<table border=\"1\" class=\"dataframe\">\n",
       "  <thead>\n",
       "    <tr style=\"text-align: right;\">\n",
       "      <th></th>\n",
       "      <th>img_name</th>\n",
       "      <th>category</th>\n",
       "      <th>binary</th>\n",
       "      <th>img_size</th>\n",
       "      <th>label</th>\n",
       "      <th>full_path</th>\n",
       "    </tr>\n",
       "  </thead>\n",
       "  <tbody>\n",
       "    <tr>\n",
       "      <th>0</th>\n",
       "      <td>SOB_M_MC_14-13418DE</td>\n",
       "      <td>mucinous_carcinoma</td>\n",
       "      <td>malignant</td>\n",
       "      <td>100X</td>\n",
       "      <td>0</td>\n",
       "      <td>/Users/yingyinxiao/breast_cancer/data/malignan...</td>\n",
       "    </tr>\n",
       "    <tr>\n",
       "      <th>1</th>\n",
       "      <td>SOB_M_MC_14-13418DE</td>\n",
       "      <td>mucinous_carcinoma</td>\n",
       "      <td>malignant</td>\n",
       "      <td>400X</td>\n",
       "      <td>1</td>\n",
       "      <td>/Users/yingyinxiao/breast_cancer/data/malignan...</td>\n",
       "    </tr>\n",
       "    <tr>\n",
       "      <th>2</th>\n",
       "      <td>SOB_M_MC_14-13418DE</td>\n",
       "      <td>mucinous_carcinoma</td>\n",
       "      <td>malignant</td>\n",
       "      <td>400X</td>\n",
       "      <td>2</td>\n",
       "      <td>/Users/yingyinxiao/breast_cancer/data/malignan...</td>\n",
       "    </tr>\n",
       "    <tr>\n",
       "      <th>3</th>\n",
       "      <td>SOB_M_MC_14-13418DE</td>\n",
       "      <td>mucinous_carcinoma</td>\n",
       "      <td>malignant</td>\n",
       "      <td>400X</td>\n",
       "      <td>3</td>\n",
       "      <td>/Users/yingyinxiao/breast_cancer/data/malignan...</td>\n",
       "    </tr>\n",
       "    <tr>\n",
       "      <th>4</th>\n",
       "      <td>SOB_M_MC_14-13418DE</td>\n",
       "      <td>mucinous_carcinoma</td>\n",
       "      <td>malignant</td>\n",
       "      <td>400X</td>\n",
       "      <td>4</td>\n",
       "      <td>/Users/yingyinxiao/breast_cancer/data/malignan...</td>\n",
       "    </tr>\n",
       "  </tbody>\n",
       "</table>\n",
       "</div>"
      ],
      "text/plain": [
       "              img_name            category     binary img_size label  \\\n",
       "0  SOB_M_MC_14-13418DE  mucinous_carcinoma  malignant     100X     0   \n",
       "1  SOB_M_MC_14-13418DE  mucinous_carcinoma  malignant     400X     1   \n",
       "2  SOB_M_MC_14-13418DE  mucinous_carcinoma  malignant     400X     2   \n",
       "3  SOB_M_MC_14-13418DE  mucinous_carcinoma  malignant     400X     3   \n",
       "4  SOB_M_MC_14-13418DE  mucinous_carcinoma  malignant     400X     4   \n",
       "\n",
       "                                           full_path  \n",
       "0  /Users/yingyinxiao/breast_cancer/data/malignan...  \n",
       "1  /Users/yingyinxiao/breast_cancer/data/malignan...  \n",
       "2  /Users/yingyinxiao/breast_cancer/data/malignan...  \n",
       "3  /Users/yingyinxiao/breast_cancer/data/malignan...  \n",
       "4  /Users/yingyinxiao/breast_cancer/data/malignan...  "
      ]
     },
     "execution_count": 123,
     "metadata": {},
     "output_type": "execute_result"
    }
   ],
   "source": [
    "csv = pd.DataFrame(data = dic4csv).transpose().rename(columns = {0: 'img_name', 1: 'category', 2: 'binary',\\\n",
    "                                                                 3: 'img_size', 4: 'label', 5: 'full_path'})\n",
    "csv.head()"
   ]
  },
  {
   "cell_type": "code",
   "execution_count": 122,
   "metadata": {},
   "outputs": [
    {
     "data": {
      "text/plain": [
       "'/Users/yingyinxiao/breast_cancer/data/malignant/mucinous_carcinoma/SOB_M_MC_14-13418DE/100X/SOB_M_MC-14-13418DE-100-002.png'"
      ]
     },
     "execution_count": 122,
     "metadata": {},
     "output_type": "execute_result"
    }
   ],
   "source": [
    "pd.DataFrame(data = dic4csv).transpose()[5][0]"
   ]
  },
  {
   "cell_type": "code",
   "execution_count": 124,
   "metadata": {},
   "outputs": [
    {
     "data": {
      "text/plain": [
       "0       SOB_M_MC_14-13418DE_100X\n",
       "1       SOB_M_MC_14-13418DE_400X\n",
       "2       SOB_M_MC_14-13418DE_400X\n",
       "3       SOB_M_MC_14-13418DE_400X\n",
       "4       SOB_M_MC_14-13418DE_400X\n",
       "                  ...           \n",
       "3878    SOB_B_PT_14-29315EF_200X\n",
       "3879    SOB_B_PT_14-29315EF_200X\n",
       "3880    SOB_B_PT_14-29315EF_200X\n",
       "3881    SOB_B_PT_14-29315EF_200X\n",
       "3882    SOB_B_PT_14-29315EF_200X\n",
       "Name: img_name, Length: 3883, dtype: object"
      ]
     },
     "execution_count": 124,
     "metadata": {},
     "output_type": "execute_result"
    }
   ],
   "source": [
    "csv['img_name'] = csv['img_name'] +'_'+ csv['img_size']\n",
    "csv['img_name']"
   ]
  },
  {
   "cell_type": "code",
   "execution_count": 125,
   "metadata": {},
   "outputs": [],
   "source": [
    "def helper(row):\n",
    "    if row == 'malignant':\n",
    "        return 1\n",
    "    else: return 0"
   ]
  },
  {
   "cell_type": "code",
   "execution_count": 126,
   "metadata": {},
   "outputs": [],
   "source": [
    "csv['binary'] = csv['binary'].apply(helper)"
   ]
  },
  {
   "cell_type": "code",
   "execution_count": 127,
   "metadata": {},
   "outputs": [
    {
     "data": {
      "text/plain": [
       "0    2490\n",
       "1    1393\n",
       "Name: binary, dtype: int64"
      ]
     },
     "execution_count": 127,
     "metadata": {},
     "output_type": "execute_result"
    }
   ],
   "source": [
    "csv.binary.value_counts()"
   ]
  },
  {
   "cell_type": "code",
   "execution_count": 128,
   "metadata": {},
   "outputs": [],
   "source": [
    "csv.to_csv('csv.csv')"
   ]
  },
  {
   "cell_type": "code",
   "execution_count": 129,
   "metadata": {},
   "outputs": [
    {
     "data": {
      "text/plain": [
       "True"
      ]
     },
     "execution_count": 129,
     "metadata": {},
     "output_type": "execute_result"
    }
   ],
   "source": [
    "index == csv.shape[0]"
   ]
  },
  {
   "cell_type": "markdown",
   "metadata": {},
   "source": [
    "### Early exploration"
   ]
  },
  {
   "cell_type": "code",
   "execution_count": 101,
   "metadata": {},
   "outputs": [
    {
     "data": {
      "text/html": [
       "<div>\n",
       "<style scoped>\n",
       "    .dataframe tbody tr th:only-of-type {\n",
       "        vertical-align: middle;\n",
       "    }\n",
       "\n",
       "    .dataframe tbody tr th {\n",
       "        vertical-align: top;\n",
       "    }\n",
       "\n",
       "    .dataframe thead th {\n",
       "        text-align: right;\n",
       "    }\n",
       "</style>\n",
       "<table border=\"1\" class=\"dataframe\">\n",
       "  <thead>\n",
       "    <tr style=\"text-align: right;\">\n",
       "      <th></th>\n",
       "      <th>binary</th>\n",
       "    </tr>\n",
       "  </thead>\n",
       "  <tbody>\n",
       "    <tr>\n",
       "      <th>count</th>\n",
       "      <td>3883.000000</td>\n",
       "    </tr>\n",
       "    <tr>\n",
       "      <th>mean</th>\n",
       "      <td>0.358743</td>\n",
       "    </tr>\n",
       "    <tr>\n",
       "      <th>std</th>\n",
       "      <td>0.479693</td>\n",
       "    </tr>\n",
       "    <tr>\n",
       "      <th>min</th>\n",
       "      <td>0.000000</td>\n",
       "    </tr>\n",
       "    <tr>\n",
       "      <th>25%</th>\n",
       "      <td>0.000000</td>\n",
       "    </tr>\n",
       "    <tr>\n",
       "      <th>50%</th>\n",
       "      <td>0.000000</td>\n",
       "    </tr>\n",
       "    <tr>\n",
       "      <th>75%</th>\n",
       "      <td>1.000000</td>\n",
       "    </tr>\n",
       "    <tr>\n",
       "      <th>max</th>\n",
       "      <td>1.000000</td>\n",
       "    </tr>\n",
       "  </tbody>\n",
       "</table>\n",
       "</div>"
      ],
      "text/plain": [
       "            binary\n",
       "count  3883.000000\n",
       "mean      0.358743\n",
       "std       0.479693\n",
       "min       0.000000\n",
       "25%       0.000000\n",
       "50%       0.000000\n",
       "75%       1.000000\n",
       "max       1.000000"
      ]
     },
     "execution_count": 101,
     "metadata": {},
     "output_type": "execute_result"
    }
   ],
   "source": [
    "csv.describe()"
   ]
  },
  {
   "cell_type": "code",
   "execution_count": 48,
   "metadata": {},
   "outputs": [
    {
     "data": {
      "text/html": [
       "<div>\n",
       "<style scoped>\n",
       "    .dataframe tbody tr th:only-of-type {\n",
       "        vertical-align: middle;\n",
       "    }\n",
       "\n",
       "    .dataframe tbody tr th {\n",
       "        vertical-align: top;\n",
       "    }\n",
       "\n",
       "    .dataframe thead th {\n",
       "        text-align: right;\n",
       "    }\n",
       "</style>\n",
       "<table border=\"1\" class=\"dataframe\">\n",
       "  <thead>\n",
       "    <tr style=\"text-align: right;\">\n",
       "      <th></th>\n",
       "      <th></th>\n",
       "      <th>img_name</th>\n",
       "      <th>category</th>\n",
       "      <th>label</th>\n",
       "      <th>full_path</th>\n",
       "    </tr>\n",
       "    <tr>\n",
       "      <th>binary</th>\n",
       "      <th>img_size</th>\n",
       "      <th></th>\n",
       "      <th></th>\n",
       "      <th></th>\n",
       "      <th></th>\n",
       "    </tr>\n",
       "  </thead>\n",
       "  <tbody>\n",
       "    <tr>\n",
       "      <th rowspan=\"4\" valign=\"top\">benign</th>\n",
       "      <th>100X</th>\n",
       "      <td>648</td>\n",
       "      <td>648</td>\n",
       "      <td>648</td>\n",
       "      <td>648</td>\n",
       "    </tr>\n",
       "    <tr>\n",
       "      <th>200X</th>\n",
       "      <td>623</td>\n",
       "      <td>623</td>\n",
       "      <td>623</td>\n",
       "      <td>623</td>\n",
       "    </tr>\n",
       "    <tr>\n",
       "      <th>400X</th>\n",
       "      <td>594</td>\n",
       "      <td>594</td>\n",
       "      <td>594</td>\n",
       "      <td>594</td>\n",
       "    </tr>\n",
       "    <tr>\n",
       "      <th>40X</th>\n",
       "      <td>625</td>\n",
       "      <td>625</td>\n",
       "      <td>625</td>\n",
       "      <td>625</td>\n",
       "    </tr>\n",
       "    <tr>\n",
       "      <th rowspan=\"4\" valign=\"top\">malignant</th>\n",
       "      <th>100X</th>\n",
       "      <td>395</td>\n",
       "      <td>395</td>\n",
       "      <td>395</td>\n",
       "      <td>395</td>\n",
       "    </tr>\n",
       "    <tr>\n",
       "      <th>200X</th>\n",
       "      <td>367</td>\n",
       "      <td>367</td>\n",
       "      <td>367</td>\n",
       "      <td>367</td>\n",
       "    </tr>\n",
       "    <tr>\n",
       "      <th>400X</th>\n",
       "      <td>288</td>\n",
       "      <td>288</td>\n",
       "      <td>288</td>\n",
       "      <td>288</td>\n",
       "    </tr>\n",
       "    <tr>\n",
       "      <th>40X</th>\n",
       "      <td>343</td>\n",
       "      <td>343</td>\n",
       "      <td>343</td>\n",
       "      <td>343</td>\n",
       "    </tr>\n",
       "  </tbody>\n",
       "</table>\n",
       "</div>"
      ],
      "text/plain": [
       "                    img_name  category  label  full_path\n",
       "binary    img_size                                      \n",
       "benign    100X           648       648    648        648\n",
       "          200X           623       623    623        623\n",
       "          400X           594       594    594        594\n",
       "          40X            625       625    625        625\n",
       "malignant 100X           395       395    395        395\n",
       "          200X           367       367    367        367\n",
       "          400X           288       288    288        288\n",
       "          40X            343       343    343        343"
      ]
     },
     "execution_count": 48,
     "metadata": {},
     "output_type": "execute_result"
    }
   ],
   "source": [
    "csv.groupby(['binary', 'img_size']).count()"
   ]
  },
  {
   "cell_type": "code",
   "execution_count": 102,
   "metadata": {},
   "outputs": [
    {
     "data": {
      "text/plain": [
       "Text(0.5, 1.0, 'Bar Chart of Benign and Malignant Cases')"
      ]
     },
     "execution_count": 102,
     "metadata": {},
     "output_type": "execute_result"
    },
    {
     "data": {
      "image/png": "[encoded data removed]",
      "text/plain": [
       "<Figure size 432x288 with 1 Axes>"
      ]
     },
     "metadata": {
      "needs_background": "light"
     },
     "output_type": "display_data"
    }
   ],
   "source": [
    "fig, ax = plt.subplots()    \n",
    "csv.groupby('binary')['img_name'].count().plot.bar()\n",
    "plt.ylabel('count')\n",
    "plt.title('Bar Chart of Benign and Malignant Cases')"
   ]
  },
  {
   "cell_type": "markdown",
   "metadata": {},
   "source": [
    "The binary data is obviously imbalanced, which will be adjusted later. There are more benigh than malignant images."
   ]
  },
  {
   "cell_type": "code",
   "execution_count": 161,
   "metadata": {},
   "outputs": [
    {
     "data": {
      "text/plain": [
       "([395, 367, 343, 288], [648, 625, 623, 594])"
      ]
     },
     "execution_count": 161,
     "metadata": {},
     "output_type": "execute_result"
    }
   ],
   "source": [
    "b1 = list(csv[csv.binary == 1].img_size.value_counts())\n",
    "b0 = list(csv[csv.binary == 0].img_size.value_counts())\n",
    "b1, b0"
   ]
  },
  {
   "cell_type": "code",
   "execution_count": 169,
   "metadata": {},
   "outputs": [
    {
     "data": {
      "image/png": "[encoded data removed]",
      "text/plain": [
       "<Figure size 432x288 with 1 Axes>"
      ]
     },
     "metadata": {
      "needs_background": "light"
     },
     "output_type": "display_data"
    }
   ],
   "source": [
    "N = 4\n",
    "\n",
    "ind = np.arange(N) \n",
    "width = 0.35       \n",
    "plt.bar(ind, b1, width, label='Malignant(1)')\n",
    "plt.bar(ind + width, b0, width,\n",
    "    label='Benign(0)')\n",
    "\n",
    "plt.ylabel('Count')\n",
    "plt.title('Binary Data by Pixels')\n",
    "\n",
    "plt.xticks(ind + width / 2, ('100X', '200X', '40X', '400X'))\n",
    "plt.legend(loc='upper right')\n",
    "plt.show()"
   ]
  },
  {
   "cell_type": "code",
   "execution_count": 211,
   "metadata": {},
   "outputs": [],
   "source": [
    "b1_ = (csv[csv.binary == 1].category.value_counts())\n",
    "category1 = list(csv[csv.binary == 1].category.value_counts().index)\n",
    "b0_ = (csv[csv.binary == 0].category.value_counts())\n",
    "category0 = list(csv[csv.binary == 0].category.value_counts().index)"
   ]
  },
  {
   "cell_type": "code",
   "execution_count": 219,
   "metadata": {},
   "outputs": [
    {
     "data": {
      "text/plain": [
       "([<matplotlib.axis.XTick at 0x1a4bf84e90>,\n",
       "  <matplotlib.axis.XTick at 0x1a4c4a9090>,\n",
       "  <matplotlib.axis.XTick at 0x1a4c4a9c50>,\n",
       "  <matplotlib.axis.XTick at 0x1a4be3b050>],\n",
       " <a list of 4 Text xticklabel objects>)"
      ]
     },
     "execution_count": 219,
     "metadata": {},
     "output_type": "execute_result"
    },
    {
     "data": {
      "image/png": "[encoded data removed]",
      "text/plain": [
       "<Figure size 432x288 with 1 Axes>"
      ]
     },
     "metadata": {
      "needs_background": "light"
     },
     "output_type": "display_data"
    }
   ],
   "source": [
    "plt.bar(ind, b1_, width)\n",
    "plt.ylabel('count')\n",
    "plt.title('Maglinant Categories')\n",
    "plt.xticks(ind + width / 2, category1, rotation = 45)"
   ]
  },
  {
   "cell_type": "code",
   "execution_count": 220,
   "metadata": {},
   "outputs": [
    {
     "data": {
      "text/plain": [
       "([<matplotlib.axis.XTick at 0x647705d10>,\n",
       "  <matplotlib.axis.XTick at 0x1a4a30bd10>,\n",
       "  <matplotlib.axis.XTick at 0x1a4a30b690>,\n",
       "  <matplotlib.axis.XTick at 0x1a4c576810>],\n",
       " <a list of 4 Text xticklabel objects>)"
      ]
     },
     "execution_count": 220,
     "metadata": {},
     "output_type": "execute_result"
    },
    {
     "data": {
      "image/png": "[encoded data removed]",
      "text/plain": [
       "<Figure size 432x288 with 1 Axes>"
      ]
     },
     "metadata": {
      "needs_background": "light"
     },
     "output_type": "display_data"
    }
   ],
   "source": [
    "plt.bar(ind, b0_, width)\n",
    "plt.ylabel('count')\n",
    "plt.title('Benign Categories')\n",
    "plt.xticks(ind + width / 2, category0, rotation = 45)"
   ]
  },
  {
   "cell_type": "code",
   "execution_count": 190,
   "metadata": {},
   "outputs": [
    {
     "data": {
      "image/png": "[encoded data removed]",
      "text/plain": [
       "<Figure size 432x288 with 1 Axes>"
      ]
     },
     "metadata": {
      "needs_background": "light"
     },
     "output_type": "display_data"
    }
   ],
   "source": [
    "N = 4\n",
    "\n",
    "ind = np.arange(N) \n",
    "width = 0.35       \n",
    "plt.bar(ind, b1_, width, label='Malignant(1)')\n",
    "plt.bar(ind + width, b0_, width,\n",
    "    label='Benign(0)')\n",
    "\n",
    "plt.ylabel('Count')\n",
    "plt.title('Binary Data by Categories')\n",
    "\n",
    "plt.xticks(ind + width / 2, category, rotation = 45)\n",
    "plt.legend(loc='upper right')\n",
    "plt.show()"
   ]
  },
  {
   "cell_type": "markdown",
   "metadata": {},
   "source": [
    "### Data loader"
   ]
  },
  {
   "cell_type": "code",
   "execution_count": 180,
   "metadata": {},
   "outputs": [
    {
     "data": {
      "text/html": [
       "<div>\n",
       "<style scoped>\n",
       "    .dataframe tbody tr th:only-of-type {\n",
       "        vertical-align: middle;\n",
       "    }\n",
       "\n",
       "    .dataframe tbody tr th {\n",
       "        vertical-align: top;\n",
       "    }\n",
       "\n",
       "    .dataframe thead th {\n",
       "        text-align: right;\n",
       "    }\n",
       "</style>\n",
       "<table border=\"1\" class=\"dataframe\">\n",
       "  <thead>\n",
       "    <tr style=\"text-align: right;\">\n",
       "      <th></th>\n",
       "      <th>img_name</th>\n",
       "      <th>category</th>\n",
       "      <th>binary</th>\n",
       "      <th>img_size</th>\n",
       "      <th>label</th>\n",
       "      <th>full_path</th>\n",
       "    </tr>\n",
       "  </thead>\n",
       "  <tbody>\n",
       "    <tr>\n",
       "      <th>0</th>\n",
       "      <td>SOB_M_MC_14-13418DE_100X</td>\n",
       "      <td>mucinous_carcinoma</td>\n",
       "      <td>1</td>\n",
       "      <td>100X</td>\n",
       "      <td>0</td>\n",
       "      <td>/Users/yingyinxiao/breast_cancer/data/malignan...</td>\n",
       "    </tr>\n",
       "    <tr>\n",
       "      <th>1</th>\n",
       "      <td>SOB_M_MC_14-13418DE_400X</td>\n",
       "      <td>mucinous_carcinoma</td>\n",
       "      <td>1</td>\n",
       "      <td>400X</td>\n",
       "      <td>1</td>\n",
       "      <td>/Users/yingyinxiao/breast_cancer/data/malignan...</td>\n",
       "    </tr>\n",
       "    <tr>\n",
       "      <th>2</th>\n",
       "      <td>SOB_M_MC_14-13418DE_400X</td>\n",
       "      <td>mucinous_carcinoma</td>\n",
       "      <td>1</td>\n",
       "      <td>400X</td>\n",
       "      <td>2</td>\n",
       "      <td>/Users/yingyinxiao/breast_cancer/data/malignan...</td>\n",
       "    </tr>\n",
       "    <tr>\n",
       "      <th>3</th>\n",
       "      <td>SOB_M_MC_14-13418DE_400X</td>\n",
       "      <td>mucinous_carcinoma</td>\n",
       "      <td>1</td>\n",
       "      <td>400X</td>\n",
       "      <td>3</td>\n",
       "      <td>/Users/yingyinxiao/breast_cancer/data/malignan...</td>\n",
       "    </tr>\n",
       "    <tr>\n",
       "      <th>4</th>\n",
       "      <td>SOB_M_MC_14-13418DE_400X</td>\n",
       "      <td>mucinous_carcinoma</td>\n",
       "      <td>1</td>\n",
       "      <td>400X</td>\n",
       "      <td>4</td>\n",
       "      <td>/Users/yingyinxiao/breast_cancer/data/malignan...</td>\n",
       "    </tr>\n",
       "  </tbody>\n",
       "</table>\n",
       "</div>"
      ],
      "text/plain": [
       "                   img_name            category  binary img_size label  \\\n",
       "0  SOB_M_MC_14-13418DE_100X  mucinous_carcinoma       1     100X     0   \n",
       "1  SOB_M_MC_14-13418DE_400X  mucinous_carcinoma       1     400X     1   \n",
       "2  SOB_M_MC_14-13418DE_400X  mucinous_carcinoma       1     400X     2   \n",
       "3  SOB_M_MC_14-13418DE_400X  mucinous_carcinoma       1     400X     3   \n",
       "4  SOB_M_MC_14-13418DE_400X  mucinous_carcinoma       1     400X     4   \n",
       "\n",
       "                                           full_path  \n",
       "0  /Users/yingyinxiao/breast_cancer/data/malignan...  \n",
       "1  /Users/yingyinxiao/breast_cancer/data/malignan...  \n",
       "2  /Users/yingyinxiao/breast_cancer/data/malignan...  \n",
       "3  /Users/yingyinxiao/breast_cancer/data/malignan...  \n",
       "4  /Users/yingyinxiao/breast_cancer/data/malignan...  "
      ]
     },
     "execution_count": 180,
     "metadata": {},
     "output_type": "execute_result"
    }
   ],
   "source": [
    "csv.head()"
   ]
  },
  {
   "cell_type": "code",
   "execution_count": 192,
   "metadata": {},
   "outputs": [
    {
     "data": {
      "text/html": [
       "<div>\n",
       "<style scoped>\n",
       "    .dataframe tbody tr th:only-of-type {\n",
       "        vertical-align: middle;\n",
       "    }\n",
       "\n",
       "    .dataframe tbody tr th {\n",
       "        vertical-align: top;\n",
       "    }\n",
       "\n",
       "    .dataframe thead tr th {\n",
       "        text-align: left;\n",
       "    }\n",
       "\n",
       "    .dataframe thead tr:last-of-type th {\n",
       "        text-align: right;\n",
       "    }\n",
       "</style>\n",
       "<table border=\"1\" class=\"dataframe\">\n",
       "  <thead>\n",
       "    <tr>\n",
       "      <th></th>\n",
       "      <th></th>\n",
       "      <th colspan=\"4\" halign=\"left\">img_name</th>\n",
       "      <th colspan=\"4\" halign=\"left\">img_size</th>\n",
       "      <th colspan=\"4\" halign=\"left\">label</th>\n",
       "      <th colspan=\"4\" halign=\"left\">full_path</th>\n",
       "    </tr>\n",
       "    <tr>\n",
       "      <th></th>\n",
       "      <th></th>\n",
       "      <th>count</th>\n",
       "      <th>unique</th>\n",
       "      <th>top</th>\n",
       "      <th>freq</th>\n",
       "      <th>count</th>\n",
       "      <th>unique</th>\n",
       "      <th>top</th>\n",
       "      <th>freq</th>\n",
       "      <th>count</th>\n",
       "      <th>unique</th>\n",
       "      <th>top</th>\n",
       "      <th>freq</th>\n",
       "      <th>count</th>\n",
       "      <th>unique</th>\n",
       "      <th>top</th>\n",
       "      <th>freq</th>\n",
       "    </tr>\n",
       "    <tr>\n",
       "      <th>binary</th>\n",
       "      <th>category</th>\n",
       "      <th></th>\n",
       "      <th></th>\n",
       "      <th></th>\n",
       "      <th></th>\n",
       "      <th></th>\n",
       "      <th></th>\n",
       "      <th></th>\n",
       "      <th></th>\n",
       "      <th></th>\n",
       "      <th></th>\n",
       "      <th></th>\n",
       "      <th></th>\n",
       "      <th></th>\n",
       "      <th></th>\n",
       "      <th></th>\n",
       "      <th></th>\n",
       "    </tr>\n",
       "  </thead>\n",
       "  <tbody>\n",
       "    <tr>\n",
       "      <th rowspan=\"4\" valign=\"top\">0</th>\n",
       "      <th>adenosis</th>\n",
       "      <td>444</td>\n",
       "      <td>16</td>\n",
       "      <td>SOB_B_A_14-22549CD_100X</td>\n",
       "      <td>36</td>\n",
       "      <td>444</td>\n",
       "      <td>4</td>\n",
       "      <td>40X</td>\n",
       "      <td>114</td>\n",
       "      <td>444</td>\n",
       "      <td>444</td>\n",
       "      <td>1836</td>\n",
       "      <td>1</td>\n",
       "      <td>444</td>\n",
       "      <td>444</td>\n",
       "      <td>/Users/yingyinxiao/breast_cancer/data/benign/a...</td>\n",
       "      <td>1</td>\n",
       "    </tr>\n",
       "    <tr>\n",
       "      <th>fibroadenoma</th>\n",
       "      <td>1024</td>\n",
       "      <td>40</td>\n",
       "      <td>SOB_B_F_14-14134_200X</td>\n",
       "      <td>38</td>\n",
       "      <td>1024</td>\n",
       "      <td>4</td>\n",
       "      <td>200X</td>\n",
       "      <td>264</td>\n",
       "      <td>1024</td>\n",
       "      <td>1024</td>\n",
       "      <td>3429</td>\n",
       "      <td>1</td>\n",
       "      <td>1024</td>\n",
       "      <td>1024</td>\n",
       "      <td>/Users/yingyinxiao/breast_cancer/data/benign/f...</td>\n",
       "      <td>1</td>\n",
       "    </tr>\n",
       "    <tr>\n",
       "      <th>phyllodes_tumor</th>\n",
       "      <td>453</td>\n",
       "      <td>12</td>\n",
       "      <td>SOB_B_PT_14-21998AB_100X</td>\n",
       "      <td>66</td>\n",
       "      <td>453</td>\n",
       "      <td>4</td>\n",
       "      <td>100X</td>\n",
       "      <td>121</td>\n",
       "      <td>453</td>\n",
       "      <td>453</td>\n",
       "      <td>3882</td>\n",
       "      <td>1</td>\n",
       "      <td>453</td>\n",
       "      <td>453</td>\n",
       "      <td>/Users/yingyinxiao/breast_cancer/data/benign/p...</td>\n",
       "      <td>1</td>\n",
       "    </tr>\n",
       "    <tr>\n",
       "      <th>tubular_adenoma</th>\n",
       "      <td>569</td>\n",
       "      <td>28</td>\n",
       "      <td>SOB_B_TA_14-16184_40X</td>\n",
       "      <td>39</td>\n",
       "      <td>569</td>\n",
       "      <td>4</td>\n",
       "      <td>100X</td>\n",
       "      <td>150</td>\n",
       "      <td>569</td>\n",
       "      <td>569</td>\n",
       "      <td>2047</td>\n",
       "      <td>1</td>\n",
       "      <td>569</td>\n",
       "      <td>569</td>\n",
       "      <td>/Users/yingyinxiao/breast_cancer/data/benign/t...</td>\n",
       "      <td>1</td>\n",
       "    </tr>\n",
       "    <tr>\n",
       "      <th rowspan=\"4\" valign=\"top\">1</th>\n",
       "      <th>ductal_carcinoma</th>\n",
       "      <td>991</td>\n",
       "      <td>140</td>\n",
       "      <td>SOB_M_DC_14-17614_40X</td>\n",
       "      <td>39</td>\n",
       "      <td>991</td>\n",
       "      <td>4</td>\n",
       "      <td>100X</td>\n",
       "      <td>288</td>\n",
       "      <td>991</td>\n",
       "      <td>991</td>\n",
       "      <td>1280</td>\n",
       "      <td>1</td>\n",
       "      <td>991</td>\n",
       "      <td>991</td>\n",
       "      <td>/Users/yingyinxiao/breast_cancer/data/malignan...</td>\n",
       "      <td>1</td>\n",
       "    </tr>\n",
       "    <tr>\n",
       "      <th>lobular_carcinoma</th>\n",
       "      <td>112</td>\n",
       "      <td>19</td>\n",
       "      <td>SOB_M_LC_14-12204_400X</td>\n",
       "      <td>24</td>\n",
       "      <td>112</td>\n",
       "      <td>4</td>\n",
       "      <td>400X</td>\n",
       "      <td>43</td>\n",
       "      <td>112</td>\n",
       "      <td>112</td>\n",
       "      <td>1392</td>\n",
       "      <td>1</td>\n",
       "      <td>112</td>\n",
       "      <td>112</td>\n",
       "      <td>/Users/yingyinxiao/breast_cancer/data/malignan...</td>\n",
       "      <td>1</td>\n",
       "    </tr>\n",
       "    <tr>\n",
       "      <th>mucinous_carcinoma</th>\n",
       "      <td>150</td>\n",
       "      <td>32</td>\n",
       "      <td>SOB_M_MC_14-19979_40X</td>\n",
       "      <td>26</td>\n",
       "      <td>150</td>\n",
       "      <td>4</td>\n",
       "      <td>40X</td>\n",
       "      <td>55</td>\n",
       "      <td>150</td>\n",
       "      <td>150</td>\n",
       "      <td>149</td>\n",
       "      <td>1</td>\n",
       "      <td>150</td>\n",
       "      <td>150</td>\n",
       "      <td>/Users/yingyinxiao/breast_cancer/data/malignan...</td>\n",
       "      <td>1</td>\n",
       "    </tr>\n",
       "    <tr>\n",
       "      <th>papillary_carcinoma</th>\n",
       "      <td>140</td>\n",
       "      <td>23</td>\n",
       "      <td>SOB_M_PC_14-19440_200X</td>\n",
       "      <td>33</td>\n",
       "      <td>140</td>\n",
       "      <td>4</td>\n",
       "      <td>200X</td>\n",
       "      <td>53</td>\n",
       "      <td>140</td>\n",
       "      <td>140</td>\n",
       "      <td>255</td>\n",
       "      <td>1</td>\n",
       "      <td>140</td>\n",
       "      <td>140</td>\n",
       "      <td>/Users/yingyinxiao/breast_cancer/data/malignan...</td>\n",
       "      <td>1</td>\n",
       "    </tr>\n",
       "  </tbody>\n",
       "</table>\n",
       "</div>"
      ],
      "text/plain": [
       "                           img_name                                        \\\n",
       "                              count unique                       top freq   \n",
       "binary category                                                             \n",
       "0      adenosis                 444     16   SOB_B_A_14-22549CD_100X   36   \n",
       "       fibroadenoma            1024     40     SOB_B_F_14-14134_200X   38   \n",
       "       phyllodes_tumor          453     12  SOB_B_PT_14-21998AB_100X   66   \n",
       "       tubular_adenoma          569     28     SOB_B_TA_14-16184_40X   39   \n",
       "1      ductal_carcinoma         991    140     SOB_M_DC_14-17614_40X   39   \n",
       "       lobular_carcinoma        112     19    SOB_M_LC_14-12204_400X   24   \n",
       "       mucinous_carcinoma       150     32     SOB_M_MC_14-19979_40X   26   \n",
       "       papillary_carcinoma      140     23    SOB_M_PC_14-19440_200X   33   \n",
       "\n",
       "                           img_size                   label                    \\\n",
       "                              count unique   top freq count unique   top freq   \n",
       "binary category                                                                 \n",
       "0      adenosis                 444      4   40X  114   444    444  1836    1   \n",
       "       fibroadenoma            1024      4  200X  264  1024   1024  3429    1   \n",
       "       phyllodes_tumor          453      4  100X  121   453    453  3882    1   \n",
       "       tubular_adenoma          569      4  100X  150   569    569  2047    1   \n",
       "1      ductal_carcinoma         991      4  100X  288   991    991  1280    1   \n",
       "       lobular_carcinoma        112      4  400X   43   112    112  1392    1   \n",
       "       mucinous_carcinoma       150      4   40X   55   150    150   149    1   \n",
       "       papillary_carcinoma      140      4  200X   53   140    140   255    1   \n",
       "\n",
       "                           full_path         \\\n",
       "                               count unique   \n",
       "binary category                               \n",
       "0      adenosis                  444    444   \n",
       "       fibroadenoma             1024   1024   \n",
       "       phyllodes_tumor           453    453   \n",
       "       tubular_adenoma           569    569   \n",
       "1      ductal_carcinoma          991    991   \n",
       "       lobular_carcinoma         112    112   \n",
       "       mucinous_carcinoma        150    150   \n",
       "       papillary_carcinoma       140    140   \n",
       "\n",
       "                                                                               \\\n",
       "                                                                          top   \n",
       "binary category                                                                 \n",
       "0      adenosis             /Users/yingyinxiao/breast_cancer/data/benign/a...   \n",
       "       fibroadenoma         /Users/yingyinxiao/breast_cancer/data/benign/f...   \n",
       "       phyllodes_tumor      /Users/yingyinxiao/breast_cancer/data/benign/p...   \n",
       "       tubular_adenoma      /Users/yingyinxiao/breast_cancer/data/benign/t...   \n",
       "1      ductal_carcinoma     /Users/yingyinxiao/breast_cancer/data/malignan...   \n",
       "       lobular_carcinoma    /Users/yingyinxiao/breast_cancer/data/malignan...   \n",
       "       mucinous_carcinoma   /Users/yingyinxiao/breast_cancer/data/malignan...   \n",
       "       papillary_carcinoma  /Users/yingyinxiao/breast_cancer/data/malignan...   \n",
       "\n",
       "                                 \n",
       "                           freq  \n",
       "binary category                  \n",
       "0      adenosis               1  \n",
       "       fibroadenoma           1  \n",
       "       phyllodes_tumor        1  \n",
       "       tubular_adenoma        1  \n",
       "1      ductal_carcinoma       1  \n",
       "       lobular_carcinoma      1  \n",
       "       mucinous_carcinoma     1  \n",
       "       papillary_carcinoma    1  "
      ]
     },
     "execution_count": 192,
     "metadata": {},
     "output_type": "execute_result"
    }
   ],
   "source": [
    "csv.groupby(['binary', 'category']).describe()"
   ]
  },
  {
   "cell_type": "code",
   "execution_count": 177,
   "metadata": {},
   "outputs": [
    {
     "data": {
      "text/plain": [
       "(3883, 6)"
      ]
     },
     "execution_count": 177,
     "metadata": {},
     "output_type": "execute_result"
    }
   ],
   "source": [
    "csv.shape"
   ]
  },
  {
   "cell_type": "code",
   "execution_count": 103,
   "metadata": {},
   "outputs": [],
   "source": [
    "labels = dict(zip(csv['img_name'], csv['label']))"
   ]
  },
  {
   "cell_type": "code",
   "execution_count": 33,
   "metadata": {},
   "outputs": [],
   "source": [
    "csv_path = 'Users⁩/⁨yingyinxiao⁩/⁨breast_cancer⁩/⁨Breast-Cancer-Classification⁩/csv.csv'\n",
    "root_dir = \"Users/⁨yingyinxiao⁩/⁨breast_cancer⁩/data⁨\""
   ]
  },
  {
   "cell_type": "code",
   "execution_count": 133,
   "metadata": {},
   "outputs": [],
   "source": [
    "class DataLoader(data.Dataset):\n",
    "    \"\"\"\n",
    "    Args:\n",
    "        csv_file (string): Path to the csv file with annotations.\n",
    "        root_dir (string): Directory with all the images.\n",
    "        transform (callable, optional): Optional transform to be applied\n",
    "            on a sample.\n",
    "    \"\"\"\n",
    "    def __init__(self, csv_file, transform = None):\n",
    "        'Initialization'\n",
    "        self.frame = pd.read_csv(csv_file)\n",
    "        self.transform = transform\n",
    "\n",
    "    def __len__(self):\n",
    "        'Denotes the total number of samples'\n",
    "        return len(self.frame)\n",
    "\n",
    "    def __getitem__(self, index):\n",
    "        'Generates one sample of data'\n",
    "        # Select sample\n",
    "        img_name = self.frame.iloc[index, 6]\n",
    "        image = io.imread(img_name)\n",
    "        \n",
    "        label = self.frame.iloc[index, 3]\n",
    "        # Load data and get label\n",
    "         \n",
    "        sample = {'image': image, 'label': label}\n",
    "        \n",
    "        if self.transform:\n",
    "            sample = self.transform(sample)\n",
    "\n",
    "        return sample"
   ]
  },
  {
   "cell_type": "code",
   "execution_count": null,
   "metadata": {},
   "outputs": [],
   "source": [
    "def get_loader(dataset, param):\n",
    "    X_train, X_test, y_train, y_test = train_test_split(X, y, test_size=0.2, random_state=1)\n",
    "    \n",
    "    X_train, X_val, y_train, y_val = train_test_split(X_train, y_train, test_size=0.2, random_state=1)\n",
    "        "
   ]
  },
  {
   "cell_type": "markdown",
   "metadata": {},
   "source": [
    "### Iterate through some images"
   ]
  },
  {
   "cell_type": "code",
   "execution_count": 178,
   "metadata": {},
   "outputs": [],
   "source": [
    "dataset = Dataset('csv.csv')"
   ]
  },
  {
   "cell_type": "code",
   "execution_count": 186,
   "metadata": {},
   "outputs": [
    {
     "name": "stdout",
     "output_type": "stream",
     "text": [
      "0 (460, 700, 3) 1\n",
      "1 (460, 700, 3) 1\n",
      "2 (460, 700, 3) 1\n",
      "3 (460, 700, 3) 1\n"
     ]
    },
    {
     "data": {
      "image/png": "[encoded data removed]",
      "text/plain": [
       "<Figure size 432x288 with 4 Axes>"
      ]
     },
     "metadata": {
      "needs_background": "light"
     },
     "output_type": "display_data"
    }
   ],
   "source": [
    "fig = plt.figure()\n",
    "\n",
    "for i in range(len(dataset)):\n",
    "    sample = dataset[i]\n",
    "\n",
    "    print(i, sample['image'].shape, sample['label'])\n",
    "\n",
    "    ax = plt.subplot(1, 4, i + 1)\n",
    "    plt.tight_layout()\n",
    "    ax.set_title('Sample #{}'.format(i))\n",
    "    ax.axis('off')\n",
    "    plt.imshow(sample['image'])\n",
    "\n",
    "    if i == 3:\n",
    "        plt.show()\n",
    "        break"
   ]
  },
  {
   "cell_type": "markdown",
   "metadata": {},
   "source": [
    "### See if the images are in the same size"
   ]
  },
  {
   "cell_type": "code",
   "execution_count": null,
   "metadata": {},
   "outputs": [],
   "source": []
  },
  {
   "cell_type": "code",
   "execution_count": null,
   "metadata": {},
   "outputs": [],
   "source": [
    "filename = os.path.join()\n",
    "img = Image.open(filename)\n",
    "print(img.size)"
   ]
  }
 ],
 "metadata": {
  "kernelspec": {
   "display_name": "Python 3",
   "language": "python",
   "name": "python3"
  },
  "language_info": {
   "codemirror_mode": {
    "name": "ipython",
    "version": 3
   },
   "file_extension": ".py",
   "mimetype": "text/x-python",
   "name": "python",
   "nbconvert_exporter": "python",
   "pygments_lexer": "ipython3",
   "version": "3.7.6"
  }
 },
 "nbformat": 4,
 "nbformat_minor": 2
}

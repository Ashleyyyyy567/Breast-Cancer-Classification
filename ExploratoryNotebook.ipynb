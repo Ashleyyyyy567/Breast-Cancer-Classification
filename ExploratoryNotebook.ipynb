{
 "cells": [
  {
   "cell_type": "markdown",
   "metadata": {},
   "source": [
    "# Breast Cancer Classification"
   ]
  },
  {
   "cell_type": "code",
   "execution_count": 1,
   "metadata": {},
   "outputs": [],
   "source": [
    "import IPython.display as display\n",
    "from PIL import Image\n",
    "import numpy as np\n",
    "import matplotlib.pyplot as plt\n",
    "import os\n",
    "import torch\n",
    "from torch.utils import data"
   ]
  },
  {
   "cell_type": "code",
   "execution_count": 2,
   "metadata": {},
   "outputs": [],
   "source": [
    "from sklearn.model_selection import train_test_split"
   ]
  },
  {
   "cell_type": "code",
   "execution_count": 3,
   "metadata": {},
   "outputs": [],
   "source": [
    "from os import path\n",
    "import pandas as pd\n",
    "from collections import defaultdict\n",
    "from skimage import io, transform"
   ]
  },
  {
   "cell_type": "code",
   "execution_count": 4,
   "metadata": {},
   "outputs": [],
   "source": [
    "from PIL import Image\n",
    "import os.path"
   ]
  },
  {
   "cell_type": "code",
   "execution_count": 5,
   "metadata": {},
   "outputs": [
    {
     "name": "stderr",
     "output_type": "stream",
     "text": [
      "/anaconda3/lib/python3.7/site-packages/tensorflow/python/framework/dtypes.py:516: FutureWarning: Passing (type, 1) or '1type' as a synonym of type is deprecated; in a future version of numpy, it will be understood as (type, (1,)) / '(1,)type'.\n",
      "  _np_qint8 = np.dtype([(\"qint8\", np.int8, 1)])\n",
      "/anaconda3/lib/python3.7/site-packages/tensorflow/python/framework/dtypes.py:517: FutureWarning: Passing (type, 1) or '1type' as a synonym of type is deprecated; in a future version of numpy, it will be understood as (type, (1,)) / '(1,)type'.\n",
      "  _np_quint8 = np.dtype([(\"quint8\", np.uint8, 1)])\n",
      "/anaconda3/lib/python3.7/site-packages/tensorflow/python/framework/dtypes.py:518: FutureWarning: Passing (type, 1) or '1type' as a synonym of type is deprecated; in a future version of numpy, it will be understood as (type, (1,)) / '(1,)type'.\n",
      "  _np_qint16 = np.dtype([(\"qint16\", np.int16, 1)])\n",
      "/anaconda3/lib/python3.7/site-packages/tensorflow/python/framework/dtypes.py:519: FutureWarning: Passing (type, 1) or '1type' as a synonym of type is deprecated; in a future version of numpy, it will be understood as (type, (1,)) / '(1,)type'.\n",
      "  _np_quint16 = np.dtype([(\"quint16\", np.uint16, 1)])\n",
      "/anaconda3/lib/python3.7/site-packages/tensorflow/python/framework/dtypes.py:520: FutureWarning: Passing (type, 1) or '1type' as a synonym of type is deprecated; in a future version of numpy, it will be understood as (type, (1,)) / '(1,)type'.\n",
      "  _np_qint32 = np.dtype([(\"qint32\", np.int32, 1)])\n",
      "/anaconda3/lib/python3.7/site-packages/tensorflow/python/framework/dtypes.py:525: FutureWarning: Passing (type, 1) or '1type' as a synonym of type is deprecated; in a future version of numpy, it will be understood as (type, (1,)) / '(1,)type'.\n",
      "  np_resource = np.dtype([(\"resource\", np.ubyte, 1)])\n",
      "/anaconda3/lib/python3.7/site-packages/tensorboard/compat/tensorflow_stub/dtypes.py:541: FutureWarning: Passing (type, 1) or '1type' as a synonym of type is deprecated; in a future version of numpy, it will be understood as (type, (1,)) / '(1,)type'.\n",
      "  _np_qint8 = np.dtype([(\"qint8\", np.int8, 1)])\n",
      "/anaconda3/lib/python3.7/site-packages/tensorboard/compat/tensorflow_stub/dtypes.py:542: FutureWarning: Passing (type, 1) or '1type' as a synonym of type is deprecated; in a future version of numpy, it will be understood as (type, (1,)) / '(1,)type'.\n",
      "  _np_quint8 = np.dtype([(\"quint8\", np.uint8, 1)])\n",
      "/anaconda3/lib/python3.7/site-packages/tensorboard/compat/tensorflow_stub/dtypes.py:543: FutureWarning: Passing (type, 1) or '1type' as a synonym of type is deprecated; in a future version of numpy, it will be understood as (type, (1,)) / '(1,)type'.\n",
      "  _np_qint16 = np.dtype([(\"qint16\", np.int16, 1)])\n",
      "/anaconda3/lib/python3.7/site-packages/tensorboard/compat/tensorflow_stub/dtypes.py:544: FutureWarning: Passing (type, 1) or '1type' as a synonym of type is deprecated; in a future version of numpy, it will be understood as (type, (1,)) / '(1,)type'.\n",
      "  _np_quint16 = np.dtype([(\"quint16\", np.uint16, 1)])\n",
      "/anaconda3/lib/python3.7/site-packages/tensorboard/compat/tensorflow_stub/dtypes.py:545: FutureWarning: Passing (type, 1) or '1type' as a synonym of type is deprecated; in a future version of numpy, it will be understood as (type, (1,)) / '(1,)type'.\n",
      "  _np_qint32 = np.dtype([(\"qint32\", np.int32, 1)])\n",
      "/anaconda3/lib/python3.7/site-packages/tensorboard/compat/tensorflow_stub/dtypes.py:550: FutureWarning: Passing (type, 1) or '1type' as a synonym of type is deprecated; in a future version of numpy, it will be understood as (type, (1,)) / '(1,)type'.\n",
      "  np_resource = np.dtype([(\"resource\", np.ubyte, 1)])\n"
     ]
    }
   ],
   "source": [
    "import tensorflow as tf\n",
    "from PIL import Image\n",
    "import numpy as np\n",
    "import cv2\n",
    "import glob"
   ]
  },
  {
   "cell_type": "code",
   "execution_count": 6,
   "metadata": {},
   "outputs": [],
   "source": [
    "rootdir = '/Users/yingyinxiao/breast_cancer'\n",
    "path_malignant = '/data/malignant'\n",
    "path_benign = '/data/benign'"
   ]
  },
  {
   "cell_type": "markdown",
   "metadata": {},
   "source": [
    "### Create the CSV file\n",
    "- png name with directory\n",
    "- pixel numbers\n",
    "- categories\n",
    "- 1/0"
   ]
  },
  {
   "cell_type": "code",
   "execution_count": 82,
   "metadata": {},
   "outputs": [
    {
     "data": {
      "text/plain": [
       "['untitled folder',\n",
       " '.DS_Store',\n",
       " 'csv.csv',\n",
       " 'Yingyin.ipynb',\n",
       " 'README.md',\n",
       " '.ipynb_checkpoints',\n",
       " '.git']"
      ]
     },
     "execution_count": 82,
     "metadata": {},
     "output_type": "execute_result"
    }
   ],
   "source": [
    "os.listdir()"
   ]
  },
  {
   "cell_type": "code",
   "execution_count": 120,
   "metadata": {},
   "outputs": [],
   "source": [
    "dic4csv = defaultdict(list)"
   ]
  },
  {
   "cell_type": "code",
   "execution_count": 121,
   "metadata": {},
   "outputs": [],
   "source": [
    "index = 0\n",
    "for root, dirs, files in os.walk(rootdir):\n",
    "    for file in files:\n",
    "        if file.endswith(\".png\"):\n",
    "            full_path = ''\n",
    "            values = root.split('/')\n",
    "            ordered = [x for x in values if x]\n",
    "            ordered.append(file)\n",
    "            \n",
    "            for i in ordered:\n",
    "                full_path+='/'+i\n",
    "\n",
    "            dic4csv[index] = [values[-2], values[-3], values[-4], values[-1], index, full_path]\n",
    "            index +=1"
   ]
  },
  {
   "cell_type": "code",
   "execution_count": 123,
   "metadata": {},
   "outputs": [
    {
     "data": {
      "text/html": [
       "<div>\n",
       "<style scoped>\n",
       "    .dataframe tbody tr th:only-of-type {\n",
       "        vertical-align: middle;\n",
       "    }\n",
       "\n",
       "    .dataframe tbody tr th {\n",
       "        vertical-align: top;\n",
       "    }\n",
       "\n",
       "    .dataframe thead th {\n",
       "        text-align: right;\n",
       "    }\n",
       "</style>\n",
       "<table border=\"1\" class=\"dataframe\">\n",
       "  <thead>\n",
       "    <tr style=\"text-align: right;\">\n",
       "      <th></th>\n",
       "      <th>img_name</th>\n",
       "      <th>category</th>\n",
       "      <th>binary</th>\n",
       "      <th>img_size</th>\n",
       "      <th>label</th>\n",
       "      <th>full_path</th>\n",
       "    </tr>\n",
       "  </thead>\n",
       "  <tbody>\n",
       "    <tr>\n",
       "      <th>0</th>\n",
       "      <td>SOB_M_MC_14-13418DE</td>\n",
       "      <td>mucinous_carcinoma</td>\n",
       "      <td>malignant</td>\n",
       "      <td>100X</td>\n",
       "      <td>0</td>\n",
       "      <td>/Users/yingyinxiao/breast_cancer/data/malignan...</td>\n",
       "    </tr>\n",
       "    <tr>\n",
       "      <th>1</th>\n",
       "      <td>SOB_M_MC_14-13418DE</td>\n",
       "      <td>mucinous_carcinoma</td>\n",
       "      <td>malignant</td>\n",
       "      <td>400X</td>\n",
       "      <td>1</td>\n",
       "      <td>/Users/yingyinxiao/breast_cancer/data/malignan...</td>\n",
       "    </tr>\n",
       "    <tr>\n",
       "      <th>2</th>\n",
       "      <td>SOB_M_MC_14-13418DE</td>\n",
       "      <td>mucinous_carcinoma</td>\n",
       "      <td>malignant</td>\n",
       "      <td>400X</td>\n",
       "      <td>2</td>\n",
       "      <td>/Users/yingyinxiao/breast_cancer/data/malignan...</td>\n",
       "    </tr>\n",
       "    <tr>\n",
       "      <th>3</th>\n",
       "      <td>SOB_M_MC_14-13418DE</td>\n",
       "      <td>mucinous_carcinoma</td>\n",
       "      <td>malignant</td>\n",
       "      <td>400X</td>\n",
       "      <td>3</td>\n",
       "      <td>/Users/yingyinxiao/breast_cancer/data/malignan...</td>\n",
       "    </tr>\n",
       "    <tr>\n",
       "      <th>4</th>\n",
       "      <td>SOB_M_MC_14-13418DE</td>\n",
       "      <td>mucinous_carcinoma</td>\n",
       "      <td>malignant</td>\n",
       "      <td>400X</td>\n",
       "      <td>4</td>\n",
       "      <td>/Users/yingyinxiao/breast_cancer/data/malignan...</td>\n",
       "    </tr>\n",
       "  </tbody>\n",
       "</table>\n",
       "</div>"
      ],
      "text/plain": [
       "              img_name            category     binary img_size label  \\\n",
       "0  SOB_M_MC_14-13418DE  mucinous_carcinoma  malignant     100X     0   \n",
       "1  SOB_M_MC_14-13418DE  mucinous_carcinoma  malignant     400X     1   \n",
       "2  SOB_M_MC_14-13418DE  mucinous_carcinoma  malignant     400X     2   \n",
       "3  SOB_M_MC_14-13418DE  mucinous_carcinoma  malignant     400X     3   \n",
       "4  SOB_M_MC_14-13418DE  mucinous_carcinoma  malignant     400X     4   \n",
       "\n",
       "                                           full_path  \n",
       "0  /Users/yingyinxiao/breast_cancer/data/malignan...  \n",
       "1  /Users/yingyinxiao/breast_cancer/data/malignan...  \n",
       "2  /Users/yingyinxiao/breast_cancer/data/malignan...  \n",
       "3  /Users/yingyinxiao/breast_cancer/data/malignan...  \n",
       "4  /Users/yingyinxiao/breast_cancer/data/malignan...  "
      ]
     },
     "execution_count": 123,
     "metadata": {},
     "output_type": "execute_result"
    }
   ],
   "source": [
    "csv = pd.DataFrame(data = dic4csv).transpose().rename(columns = {0: 'img_name', 1: 'category', 2: 'binary',\\\n",
    "                                                                 3: 'img_size', 4: 'label', 5: 'full_path'})\n",
    "csv.head()"
   ]
  },
  {
   "cell_type": "code",
   "execution_count": 122,
   "metadata": {},
   "outputs": [
    {
     "data": {
      "text/plain": [
       "'/Users/yingyinxiao/breast_cancer/data/malignant/mucinous_carcinoma/SOB_M_MC_14-13418DE/100X/SOB_M_MC-14-13418DE-100-002.png'"
      ]
     },
     "execution_count": 122,
     "metadata": {},
     "output_type": "execute_result"
    }
   ],
   "source": [
    "pd.DataFrame(data = dic4csv).transpose()[5][0]"
   ]
  },
  {
   "cell_type": "code",
   "execution_count": 124,
   "metadata": {},
   "outputs": [
    {
     "data": {
      "text/plain": [
       "0       SOB_M_MC_14-13418DE_100X\n",
       "1       SOB_M_MC_14-13418DE_400X\n",
       "2       SOB_M_MC_14-13418DE_400X\n",
       "3       SOB_M_MC_14-13418DE_400X\n",
       "4       SOB_M_MC_14-13418DE_400X\n",
       "                  ...           \n",
       "3878    SOB_B_PT_14-29315EF_200X\n",
       "3879    SOB_B_PT_14-29315EF_200X\n",
       "3880    SOB_B_PT_14-29315EF_200X\n",
       "3881    SOB_B_PT_14-29315EF_200X\n",
       "3882    SOB_B_PT_14-29315EF_200X\n",
       "Name: img_name, Length: 3883, dtype: object"
      ]
     },
     "execution_count": 124,
     "metadata": {},
     "output_type": "execute_result"
    }
   ],
   "source": [
    "csv['img_name'] = csv['img_name'] +'_'+ csv['img_size']\n",
    "csv['img_name']"
   ]
  },
  {
   "cell_type": "code",
   "execution_count": 125,
   "metadata": {},
   "outputs": [],
   "source": [
    "def helper(row):\n",
    "    if row == 'malignant':\n",
    "        return 1\n",
    "    else: return 0"
   ]
  },
  {
   "cell_type": "code",
   "execution_count": 126,
   "metadata": {},
   "outputs": [],
   "source": [
    "csv['binary'] = csv['binary'].apply(helper)"
   ]
  },
  {
   "cell_type": "code",
   "execution_count": 127,
   "metadata": {},
   "outputs": [
    {
     "data": {
      "text/plain": [
       "0    2490\n",
       "1    1393\n",
       "Name: binary, dtype: int64"
      ]
     },
     "execution_count": 127,
     "metadata": {},
     "output_type": "execute_result"
    }
   ],
   "source": [
    "csv.binary.value_counts()"
   ]
  },
  {
   "cell_type": "code",
   "execution_count": 128,
   "metadata": {},
   "outputs": [],
   "source": [
    "csv.to_csv('csv.csv')"
   ]
  },
  {
   "cell_type": "code",
   "execution_count": 129,
   "metadata": {},
   "outputs": [
    {
     "data": {
      "text/plain": [
       "True"
      ]
     },
     "execution_count": 129,
     "metadata": {},
     "output_type": "execute_result"
    }
   ],
   "source": [
    "index == csv.shape[0]"
   ]
  },
  {
   "cell_type": "markdown",
   "metadata": {},
   "source": [
    "### Early exploration"
   ]
  },
  {
   "cell_type": "code",
   "execution_count": 10,
   "metadata": {},
   "outputs": [],
   "source": [
    "csv = pd.read_csv('csv.csv').drop('Unnamed: 0', axis = 1)"
   ]
  },
  {
   "cell_type": "code",
   "execution_count": 12,
   "metadata": {},
   "outputs": [
    {
     "data": {
      "text/html": [
       "<div>\n",
       "<style scoped>\n",
       "    .dataframe tbody tr th:only-of-type {\n",
       "        vertical-align: middle;\n",
       "    }\n",
       "\n",
       "    .dataframe tbody tr th {\n",
       "        vertical-align: top;\n",
       "    }\n",
       "\n",
       "    .dataframe thead th {\n",
       "        text-align: right;\n",
       "    }\n",
       "</style>\n",
       "<table border=\"1\" class=\"dataframe\">\n",
       "  <thead>\n",
       "    <tr style=\"text-align: right;\">\n",
       "      <th></th>\n",
       "      <th>binary</th>\n",
       "      <th>label</th>\n",
       "    </tr>\n",
       "  </thead>\n",
       "  <tbody>\n",
       "    <tr>\n",
       "      <th>count</th>\n",
       "      <td>3883.000000</td>\n",
       "      <td>3883.000000</td>\n",
       "    </tr>\n",
       "    <tr>\n",
       "      <th>mean</th>\n",
       "      <td>0.358743</td>\n",
       "      <td>1941.000000</td>\n",
       "    </tr>\n",
       "    <tr>\n",
       "      <th>std</th>\n",
       "      <td>0.479693</td>\n",
       "      <td>1121.069876</td>\n",
       "    </tr>\n",
       "    <tr>\n",
       "      <th>min</th>\n",
       "      <td>0.000000</td>\n",
       "      <td>0.000000</td>\n",
       "    </tr>\n",
       "    <tr>\n",
       "      <th>25%</th>\n",
       "      <td>0.000000</td>\n",
       "      <td>970.500000</td>\n",
       "    </tr>\n",
       "    <tr>\n",
       "      <th>50%</th>\n",
       "      <td>0.000000</td>\n",
       "      <td>1941.000000</td>\n",
       "    </tr>\n",
       "    <tr>\n",
       "      <th>75%</th>\n",
       "      <td>1.000000</td>\n",
       "      <td>2911.500000</td>\n",
       "    </tr>\n",
       "    <tr>\n",
       "      <th>max</th>\n",
       "      <td>1.000000</td>\n",
       "      <td>3882.000000</td>\n",
       "    </tr>\n",
       "  </tbody>\n",
       "</table>\n",
       "</div>"
      ],
      "text/plain": [
       "            binary        label\n",
       "count  3883.000000  3883.000000\n",
       "mean      0.358743  1941.000000\n",
       "std       0.479693  1121.069876\n",
       "min       0.000000     0.000000\n",
       "25%       0.000000   970.500000\n",
       "50%       0.000000  1941.000000\n",
       "75%       1.000000  2911.500000\n",
       "max       1.000000  3882.000000"
      ]
     },
     "execution_count": 12,
     "metadata": {},
     "output_type": "execute_result"
    }
   ],
   "source": [
    "csv.describe()"
   ]
  },
  {
   "cell_type": "code",
   "execution_count": 13,
   "metadata": {},
   "outputs": [
    {
     "data": {
      "text/html": [
       "<div>\n",
       "<style scoped>\n",
       "    .dataframe tbody tr th:only-of-type {\n",
       "        vertical-align: middle;\n",
       "    }\n",
       "\n",
       "    .dataframe tbody tr th {\n",
       "        vertical-align: top;\n",
       "    }\n",
       "\n",
       "    .dataframe thead th {\n",
       "        text-align: right;\n",
       "    }\n",
       "</style>\n",
       "<table border=\"1\" class=\"dataframe\">\n",
       "  <thead>\n",
       "    <tr style=\"text-align: right;\">\n",
       "      <th></th>\n",
       "      <th></th>\n",
       "      <th>img_name</th>\n",
       "      <th>category</th>\n",
       "      <th>label</th>\n",
       "      <th>full_path</th>\n",
       "    </tr>\n",
       "    <tr>\n",
       "      <th>binary</th>\n",
       "      <th>img_size</th>\n",
       "      <th></th>\n",
       "      <th></th>\n",
       "      <th></th>\n",
       "      <th></th>\n",
       "    </tr>\n",
       "  </thead>\n",
       "  <tbody>\n",
       "    <tr>\n",
       "      <th rowspan=\"4\" valign=\"top\">0</th>\n",
       "      <th>100X</th>\n",
       "      <td>648</td>\n",
       "      <td>648</td>\n",
       "      <td>648</td>\n",
       "      <td>648</td>\n",
       "    </tr>\n",
       "    <tr>\n",
       "      <th>200X</th>\n",
       "      <td>623</td>\n",
       "      <td>623</td>\n",
       "      <td>623</td>\n",
       "      <td>623</td>\n",
       "    </tr>\n",
       "    <tr>\n",
       "      <th>400X</th>\n",
       "      <td>594</td>\n",
       "      <td>594</td>\n",
       "      <td>594</td>\n",
       "      <td>594</td>\n",
       "    </tr>\n",
       "    <tr>\n",
       "      <th>40X</th>\n",
       "      <td>625</td>\n",
       "      <td>625</td>\n",
       "      <td>625</td>\n",
       "      <td>625</td>\n",
       "    </tr>\n",
       "    <tr>\n",
       "      <th rowspan=\"4\" valign=\"top\">1</th>\n",
       "      <th>100X</th>\n",
       "      <td>395</td>\n",
       "      <td>395</td>\n",
       "      <td>395</td>\n",
       "      <td>395</td>\n",
       "    </tr>\n",
       "    <tr>\n",
       "      <th>200X</th>\n",
       "      <td>367</td>\n",
       "      <td>367</td>\n",
       "      <td>367</td>\n",
       "      <td>367</td>\n",
       "    </tr>\n",
       "    <tr>\n",
       "      <th>400X</th>\n",
       "      <td>288</td>\n",
       "      <td>288</td>\n",
       "      <td>288</td>\n",
       "      <td>288</td>\n",
       "    </tr>\n",
       "    <tr>\n",
       "      <th>40X</th>\n",
       "      <td>343</td>\n",
       "      <td>343</td>\n",
       "      <td>343</td>\n",
       "      <td>343</td>\n",
       "    </tr>\n",
       "  </tbody>\n",
       "</table>\n",
       "</div>"
      ],
      "text/plain": [
       "                 img_name  category  label  full_path\n",
       "binary img_size                                      \n",
       "0      100X           648       648    648        648\n",
       "       200X           623       623    623        623\n",
       "       400X           594       594    594        594\n",
       "       40X            625       625    625        625\n",
       "1      100X           395       395    395        395\n",
       "       200X           367       367    367        367\n",
       "       400X           288       288    288        288\n",
       "       40X            343       343    343        343"
      ]
     },
     "execution_count": 13,
     "metadata": {},
     "output_type": "execute_result"
    }
   ],
   "source": [
    "csv.groupby(['binary', 'img_size']).count()"
   ]
  },
  {
   "cell_type": "code",
   "execution_count": 14,
   "metadata": {},
   "outputs": [
    {
     "data": {
      "text/plain": [
       "Text(0.5, 1.0, 'Bar Chart of Benign and Malignant Cases')"
      ]
     },
     "execution_count": 14,
     "metadata": {},
     "output_type": "execute_result"
    },
    {
     "data": {
      "image/png": "[encoded data removed]",
      "text/plain": [
       "<Figure size 432x288 with 1 Axes>"
      ]
     },
     "metadata": {
      "needs_background": "light"
     },
     "output_type": "display_data"
    }
   ],
   "source": [
    "fig, ax = plt.subplots()    \n",
    "csv.groupby('binary')['img_name'].count().plot.bar()\n",
    "plt.ylabel('count')\n",
    "plt.title('Bar Chart of Benign and Malignant Cases')"
   ]
  },
  {
   "cell_type": "markdown",
   "metadata": {},
   "source": [
    "The binary data is obviously imbalanced, which will be adjusted later. There are more benigh than malignant images."
   ]
  },
  {
   "cell_type": "code",
   "execution_count": 15,
   "metadata": {},
   "outputs": [
    {
     "data": {
      "text/plain": [
       "([395, 367, 343, 288], [648, 625, 623, 594])"
      ]
     },
     "execution_count": 15,
     "metadata": {},
     "output_type": "execute_result"
    }
   ],
   "source": [
    "b1 = list(csv[csv.binary == 1].img_size.value_counts())\n",
    "b0 = list(csv[csv.binary == 0].img_size.value_counts())\n",
    "b1, b0"
   ]
  },
  {
   "cell_type": "code",
   "execution_count": 16,
   "metadata": {},
   "outputs": [
    {
     "data": {
      "image/png": "[encoded data removed]",
      "text/plain": [
       "<Figure size 432x288 with 1 Axes>"
      ]
     },
     "metadata": {
      "needs_background": "light"
     },
     "output_type": "display_data"
    }
   ],
   "source": [
    "N = 4\n",
    "\n",
    "ind = np.arange(N) \n",
    "width = 0.35       \n",
    "plt.bar(ind, b1, width, label='Malignant(1)')\n",
    "plt.bar(ind + width, b0, width,\n",
    "    label='Benign(0)')\n",
    "\n",
    "plt.ylabel('Count')\n",
    "plt.title('Binary Data by Pixels')\n",
    "\n",
    "plt.xticks(ind + width / 2, ('100X', '200X', '40X', '400X'))\n",
    "plt.legend(loc='upper right')\n",
    "plt.show()"
   ]
  },
  {
   "cell_type": "code",
   "execution_count": 17,
   "metadata": {},
   "outputs": [
    {
     "data": {
      "text/html": [
       "<div>\n",
       "<style scoped>\n",
       "    .dataframe tbody tr th:only-of-type {\n",
       "        vertical-align: middle;\n",
       "    }\n",
       "\n",
       "    .dataframe tbody tr th {\n",
       "        vertical-align: top;\n",
       "    }\n",
       "\n",
       "    .dataframe thead tr th {\n",
       "        text-align: left;\n",
       "    }\n",
       "\n",
       "    .dataframe thead tr:last-of-type th {\n",
       "        text-align: right;\n",
       "    }\n",
       "</style>\n",
       "<table border=\"1\" class=\"dataframe\">\n",
       "  <thead>\n",
       "    <tr>\n",
       "      <th></th>\n",
       "      <th></th>\n",
       "      <th colspan=\"8\" halign=\"left\">label</th>\n",
       "    </tr>\n",
       "    <tr>\n",
       "      <th></th>\n",
       "      <th></th>\n",
       "      <th>count</th>\n",
       "      <th>mean</th>\n",
       "      <th>std</th>\n",
       "      <th>min</th>\n",
       "      <th>25%</th>\n",
       "      <th>50%</th>\n",
       "      <th>75%</th>\n",
       "      <th>max</th>\n",
       "    </tr>\n",
       "    <tr>\n",
       "      <th>binary</th>\n",
       "      <th>category</th>\n",
       "      <th></th>\n",
       "      <th></th>\n",
       "      <th></th>\n",
       "      <th></th>\n",
       "      <th></th>\n",
       "      <th></th>\n",
       "      <th></th>\n",
       "      <th></th>\n",
       "    </tr>\n",
       "  </thead>\n",
       "  <tbody>\n",
       "    <tr>\n",
       "      <th rowspan=\"4\" valign=\"top\">0</th>\n",
       "      <th>adenosis</th>\n",
       "      <td>444.0</td>\n",
       "      <td>1614.5</td>\n",
       "      <td>128.316016</td>\n",
       "      <td>1393.0</td>\n",
       "      <td>1503.75</td>\n",
       "      <td>1614.5</td>\n",
       "      <td>1725.25</td>\n",
       "      <td>1836.0</td>\n",
       "    </tr>\n",
       "    <tr>\n",
       "      <th>fibroadenoma</th>\n",
       "      <td>1024.0</td>\n",
       "      <td>2917.5</td>\n",
       "      <td>295.747640</td>\n",
       "      <td>2406.0</td>\n",
       "      <td>2661.75</td>\n",
       "      <td>2917.5</td>\n",
       "      <td>3173.25</td>\n",
       "      <td>3429.0</td>\n",
       "    </tr>\n",
       "    <tr>\n",
       "      <th>phyllodes_tumor</th>\n",
       "      <td>453.0</td>\n",
       "      <td>3656.0</td>\n",
       "      <td>130.914094</td>\n",
       "      <td>3430.0</td>\n",
       "      <td>3543.00</td>\n",
       "      <td>3656.0</td>\n",
       "      <td>3769.00</td>\n",
       "      <td>3882.0</td>\n",
       "    </tr>\n",
       "    <tr>\n",
       "      <th>tubular_adenoma</th>\n",
       "      <td>569.0</td>\n",
       "      <td>2121.0</td>\n",
       "      <td>164.400426</td>\n",
       "      <td>1837.0</td>\n",
       "      <td>1979.00</td>\n",
       "      <td>2121.0</td>\n",
       "      <td>2263.00</td>\n",
       "      <td>2405.0</td>\n",
       "    </tr>\n",
       "    <tr>\n",
       "      <th rowspan=\"4\" valign=\"top\">1</th>\n",
       "      <th>ductal_carcinoma</th>\n",
       "      <td>991.0</td>\n",
       "      <td>785.0</td>\n",
       "      <td>286.221360</td>\n",
       "      <td>290.0</td>\n",
       "      <td>537.50</td>\n",
       "      <td>785.0</td>\n",
       "      <td>1032.50</td>\n",
       "      <td>1280.0</td>\n",
       "    </tr>\n",
       "    <tr>\n",
       "      <th>lobular_carcinoma</th>\n",
       "      <td>112.0</td>\n",
       "      <td>1336.5</td>\n",
       "      <td>32.475632</td>\n",
       "      <td>1281.0</td>\n",
       "      <td>1308.75</td>\n",
       "      <td>1336.5</td>\n",
       "      <td>1364.25</td>\n",
       "      <td>1392.0</td>\n",
       "    </tr>\n",
       "    <tr>\n",
       "      <th>mucinous_carcinoma</th>\n",
       "      <td>150.0</td>\n",
       "      <td>74.5</td>\n",
       "      <td>43.445368</td>\n",
       "      <td>0.0</td>\n",
       "      <td>37.25</td>\n",
       "      <td>74.5</td>\n",
       "      <td>111.75</td>\n",
       "      <td>149.0</td>\n",
       "    </tr>\n",
       "    <tr>\n",
       "      <th>papillary_carcinoma</th>\n",
       "      <td>140.0</td>\n",
       "      <td>219.5</td>\n",
       "      <td>40.558600</td>\n",
       "      <td>150.0</td>\n",
       "      <td>184.75</td>\n",
       "      <td>219.5</td>\n",
       "      <td>254.25</td>\n",
       "      <td>289.0</td>\n",
       "    </tr>\n",
       "  </tbody>\n",
       "</table>\n",
       "</div>"
      ],
      "text/plain": [
       "                             label                                       \\\n",
       "                             count    mean         std     min      25%   \n",
       "binary category                                                           \n",
       "0      adenosis              444.0  1614.5  128.316016  1393.0  1503.75   \n",
       "       fibroadenoma         1024.0  2917.5  295.747640  2406.0  2661.75   \n",
       "       phyllodes_tumor       453.0  3656.0  130.914094  3430.0  3543.00   \n",
       "       tubular_adenoma       569.0  2121.0  164.400426  1837.0  1979.00   \n",
       "1      ductal_carcinoma      991.0   785.0  286.221360   290.0   537.50   \n",
       "       lobular_carcinoma     112.0  1336.5   32.475632  1281.0  1308.75   \n",
       "       mucinous_carcinoma    150.0    74.5   43.445368     0.0    37.25   \n",
       "       papillary_carcinoma   140.0   219.5   40.558600   150.0   184.75   \n",
       "\n",
       "                                                     \n",
       "                               50%      75%     max  \n",
       "binary category                                      \n",
       "0      adenosis             1614.5  1725.25  1836.0  \n",
       "       fibroadenoma         2917.5  3173.25  3429.0  \n",
       "       phyllodes_tumor      3656.0  3769.00  3882.0  \n",
       "       tubular_adenoma      2121.0  2263.00  2405.0  \n",
       "1      ductal_carcinoma      785.0  1032.50  1280.0  \n",
       "       lobular_carcinoma    1336.5  1364.25  1392.0  \n",
       "       mucinous_carcinoma     74.5   111.75   149.0  \n",
       "       papillary_carcinoma   219.5   254.25   289.0  "
      ]
     },
     "execution_count": 17,
     "metadata": {},
     "output_type": "execute_result"
    }
   ],
   "source": [
    "csv.groupby(['binary', 'category']).describe()"
   ]
  },
  {
   "cell_type": "code",
   "execution_count": 18,
   "metadata": {},
   "outputs": [],
   "source": [
    "b1_ = (csv[csv.binary == 1].category.value_counts())\n",
    "category1 = list(csv[csv.binary == 1].category.value_counts().index)\n",
    "b0_ = (csv[csv.binary == 0].category.value_counts())\n",
    "category0 = list(csv[csv.binary == 0].category.value_counts().index)"
   ]
  },
  {
   "cell_type": "code",
   "execution_count": 19,
   "metadata": {},
   "outputs": [
    {
     "data": {
      "text/plain": [
       "([<matplotlib.axis.XTick at 0x1a4787acd0>,\n",
       "  <matplotlib.axis.XTick at 0x1a4787a150>,\n",
       "  <matplotlib.axis.XTick at 0x1a477e2a90>,\n",
       "  <matplotlib.axis.XTick at 0x1a47d1a250>],\n",
       " <a list of 4 Text xticklabel objects>)"
      ]
     },
     "execution_count": 19,
     "metadata": {},
     "output_type": "execute_result"
    },
    {
     "data": {
      "image/png": "[encoded data removed]",
      "text/plain": [
       "<Figure size 432x288 with 1 Axes>"
      ]
     },
     "metadata": {
      "needs_background": "light"
     },
     "output_type": "display_data"
    }
   ],
   "source": [
    "plt.bar(ind, b1_, width)\n",
    "plt.ylabel('count')\n",
    "plt.title('Maglinant Categories')\n",
    "plt.xticks(ind + width / 2, category1, rotation = 45)"
   ]
  },
  {
   "cell_type": "code",
   "execution_count": 20,
   "metadata": {},
   "outputs": [
    {
     "data": {
      "text/plain": [
       "([<matplotlib.axis.XTick at 0x1a47d354d0>,\n",
       "  <matplotlib.axis.XTick at 0x1a47d2a310>,\n",
       "  <matplotlib.axis.XTick at 0x1a47d2a390>,\n",
       "  <matplotlib.axis.XTick at 0x1a3e657390>],\n",
       " <a list of 4 Text xticklabel objects>)"
      ]
     },
     "execution_count": 20,
     "metadata": {},
     "output_type": "execute_result"
    },
    {
     "data": {
      "image/png": "[encoded data removed]",
      "text/plain": [
       "<Figure size 432x288 with 1 Axes>"
      ]
     },
     "metadata": {
      "needs_background": "light"
     },
     "output_type": "display_data"
    }
   ],
   "source": [
    "plt.bar(ind, b0_, width)\n",
    "plt.ylabel('count')\n",
    "plt.title('Benign Categories')\n",
    "plt.xticks(ind + width / 2, category0, rotation = 45)"
   ]
  },
  {
   "cell_type": "markdown",
   "metadata": {},
   "source": [
    "### Data loader"
   ]
  },
  {
   "cell_type": "code",
   "execution_count": 180,
   "metadata": {},
   "outputs": [
    {
     "data": {
      "text/html": [
       "<div>\n",
       "<style scoped>\n",
       "    .dataframe tbody tr th:only-of-type {\n",
       "        vertical-align: middle;\n",
       "    }\n",
       "\n",
       "    .dataframe tbody tr th {\n",
       "        vertical-align: top;\n",
       "    }\n",
       "\n",
       "    .dataframe thead th {\n",
       "        text-align: right;\n",
       "    }\n",
       "</style>\n",
       "<table border=\"1\" class=\"dataframe\">\n",
       "  <thead>\n",
       "    <tr style=\"text-align: right;\">\n",
       "      <th></th>\n",
       "      <th>img_name</th>\n",
       "      <th>category</th>\n",
       "      <th>binary</th>\n",
       "      <th>img_size</th>\n",
       "      <th>label</th>\n",
       "      <th>full_path</th>\n",
       "    </tr>\n",
       "  </thead>\n",
       "  <tbody>\n",
       "    <tr>\n",
       "      <th>0</th>\n",
       "      <td>SOB_M_MC_14-13418DE_100X</td>\n",
       "      <td>mucinous_carcinoma</td>\n",
       "      <td>1</td>\n",
       "      <td>100X</td>\n",
       "      <td>0</td>\n",
       "      <td>/Users/yingyinxiao/breast_cancer/data/malignan...</td>\n",
       "    </tr>\n",
       "    <tr>\n",
       "      <th>1</th>\n",
       "      <td>SOB_M_MC_14-13418DE_400X</td>\n",
       "      <td>mucinous_carcinoma</td>\n",
       "      <td>1</td>\n",
       "      <td>400X</td>\n",
       "      <td>1</td>\n",
       "      <td>/Users/yingyinxiao/breast_cancer/data/malignan...</td>\n",
       "    </tr>\n",
       "    <tr>\n",
       "      <th>2</th>\n",
       "      <td>SOB_M_MC_14-13418DE_400X</td>\n",
       "      <td>mucinous_carcinoma</td>\n",
       "      <td>1</td>\n",
       "      <td>400X</td>\n",
       "      <td>2</td>\n",
       "      <td>/Users/yingyinxiao/breast_cancer/data/malignan...</td>\n",
       "    </tr>\n",
       "    <tr>\n",
       "      <th>3</th>\n",
       "      <td>SOB_M_MC_14-13418DE_400X</td>\n",
       "      <td>mucinous_carcinoma</td>\n",
       "      <td>1</td>\n",
       "      <td>400X</td>\n",
       "      <td>3</td>\n",
       "      <td>/Users/yingyinxiao/breast_cancer/data/malignan...</td>\n",
       "    </tr>\n",
       "    <tr>\n",
       "      <th>4</th>\n",
       "      <td>SOB_M_MC_14-13418DE_400X</td>\n",
       "      <td>mucinous_carcinoma</td>\n",
       "      <td>1</td>\n",
       "      <td>400X</td>\n",
       "      <td>4</td>\n",
       "      <td>/Users/yingyinxiao/breast_cancer/data/malignan...</td>\n",
       "    </tr>\n",
       "  </tbody>\n",
       "</table>\n",
       "</div>"
      ],
      "text/plain": [
       "                   img_name            category  binary img_size label  \\\n",
       "0  SOB_M_MC_14-13418DE_100X  mucinous_carcinoma       1     100X     0   \n",
       "1  SOB_M_MC_14-13418DE_400X  mucinous_carcinoma       1     400X     1   \n",
       "2  SOB_M_MC_14-13418DE_400X  mucinous_carcinoma       1     400X     2   \n",
       "3  SOB_M_MC_14-13418DE_400X  mucinous_carcinoma       1     400X     3   \n",
       "4  SOB_M_MC_14-13418DE_400X  mucinous_carcinoma       1     400X     4   \n",
       "\n",
       "                                           full_path  \n",
       "0  /Users/yingyinxiao/breast_cancer/data/malignan...  \n",
       "1  /Users/yingyinxiao/breast_cancer/data/malignan...  \n",
       "2  /Users/yingyinxiao/breast_cancer/data/malignan...  \n",
       "3  /Users/yingyinxiao/breast_cancer/data/malignan...  \n",
       "4  /Users/yingyinxiao/breast_cancer/data/malignan...  "
      ]
     },
     "execution_count": 180,
     "metadata": {},
     "output_type": "execute_result"
    }
   ],
   "source": [
    "csv.head()"
   ]
  },
  {
   "cell_type": "code",
   "execution_count": 177,
   "metadata": {},
   "outputs": [
    {
     "data": {
      "text/plain": [
       "(3883, 6)"
      ]
     },
     "execution_count": 177,
     "metadata": {},
     "output_type": "execute_result"
    }
   ],
   "source": [
    "csv.shape"
   ]
  },
  {
   "cell_type": "code",
   "execution_count": 103,
   "metadata": {},
   "outputs": [],
   "source": [
    "labels = dict(zip(csv['img_name'], csv['label']))"
   ]
  },
  {
   "cell_type": "code",
   "execution_count": 33,
   "metadata": {},
   "outputs": [],
   "source": [
    "csv_path = 'Users⁩/⁨yingyinxiao⁩/⁨breast_cancer⁩/⁨Breast-Cancer-Classification⁩/csv.csv'\n",
    "root_dir = \"Users/⁨yingyinxiao⁩/⁨breast_cancer⁩/data⁨\""
   ]
  },
  {
   "cell_type": "code",
   "execution_count": 251,
   "metadata": {},
   "outputs": [],
   "source": [
    "class DataLoader(data.Dataset):\n",
    "    \"\"\"\n",
    "    Args:\n",
    "        csv_file (string): Path to the csv file with annotations.\n",
    "        root_dir (string): Directory with all the images.\n",
    "        transform (callable, optional): Optional transform to be applied\n",
    "            on a sample.\n",
    "    \"\"\"\n",
    "    def __init__(self, csv_file, transform = None):\n",
    "        'Initialization'\n",
    "        self.frame = pd.read_csv(csv_file)\n",
    "        self.transform = transform\n",
    "\n",
    "    def __len__(self):\n",
    "        'Denotes the total number of samples'\n",
    "        return len(self.frame)\n",
    "\n",
    "    def __getitem__(self, index):\n",
    "        'Generates one sample of data'\n",
    "        # Select sample\n",
    "        img_name = self.frame.iloc[index, 6]\n",
    "        image = io.imread(img_name)\n",
    "        \n",
    "        label = self.frame.iloc[index, 3]\n",
    "        # Load data and get label\n",
    "         \n",
    "        sample = {'image': image, 'label': label}\n",
    "        \n",
    "        if self.transform:\n",
    "            sample = self.transform(sample)\n",
    "            \n",
    "        return sample"
   ]
  },
  {
   "cell_type": "code",
   "execution_count": 255,
   "metadata": {},
   "outputs": [],
   "source": [
    "def get_loader(dataset, param):\n",
    "    \n",
    "    samples = DataLoader(dataset)\n",
    "    matrixes = []\n",
    "    matrixes = [matrixes.append(x['image']) for x in samples]\n",
    "    \n",
    "    targets = []\n",
    "    matrixes = [matrixes.append(x['label']) for x in samples]\n",
    "    \n",
    "    \n",
    "    X_train, X_test, y_train, y_test = train_test_split(matrixes, target, test_size = param, random_state=1)\n",
    "    \n",
    "    X_train, X_val, y_train, y_val = train_test_split(X_train, y_train, test_size = param, random_state=1)\n",
    "    \n",
    "    train = [X_train, y_train]\n",
    "    val = [X_val, y_val]\n",
    "    test = [X_test, y_test]\n",
    "    \n",
    "    return X_train, X_val, X_test, y_train, y_val, y_test"
   ]
  },
  {
   "cell_type": "markdown",
   "metadata": {},
   "source": [
    "### Iterate through some images"
   ]
  },
  {
   "cell_type": "code",
   "execution_count": 26,
   "metadata": {},
   "outputs": [
    {
     "ename": "NameError",
     "evalue": "name 'data' is not defined",
     "output_type": "error",
     "traceback": [
      "\u001b[0;31m---------------------------------------------------------------------------\u001b[0m",
      "\u001b[0;31mNameError\u001b[0m                                 Traceback (most recent call last)",
      "\u001b[0;32m<ipython-input-26-26507bf09ca8>\u001b[0m in \u001b[0;36m<module>\u001b[0;34m\u001b[0m\n\u001b[0;32m----> 1\u001b[0;31m \u001b[0;32mfrom\u001b[0m \u001b[0mDataLoader\u001b[0m \u001b[0;32mimport\u001b[0m \u001b[0mDataset\u001b[0m\u001b[0;34m\u001b[0m\u001b[0;34m\u001b[0m\u001b[0m\n\u001b[0m",
      "\u001b[0;32m~/breast_cancer/Breast-Cancer-Classification/DataLoader.py\u001b[0m in \u001b[0;36m<module>\u001b[0;34m\u001b[0m\n\u001b[0;32m----> 1\u001b[0;31m \u001b[0;32mclass\u001b[0m \u001b[0mDataset\u001b[0m\u001b[0;34m(\u001b[0m\u001b[0mdata\u001b[0m\u001b[0;34m.\u001b[0m\u001b[0mDataset\u001b[0m\u001b[0;34m)\u001b[0m\u001b[0;34m:\u001b[0m\u001b[0;34m\u001b[0m\u001b[0;34m\u001b[0m\u001b[0m\n\u001b[0m\u001b[1;32m      2\u001b[0m     \"\"\"\n\u001b[1;32m      3\u001b[0m     \u001b[0mArgs\u001b[0m\u001b[0;34m:\u001b[0m\u001b[0;34m\u001b[0m\u001b[0;34m\u001b[0m\u001b[0m\n\u001b[1;32m      4\u001b[0m         \u001b[0mcsv_file\u001b[0m \u001b[0;34m(\u001b[0m\u001b[0mstring\u001b[0m\u001b[0;34m)\u001b[0m\u001b[0;34m:\u001b[0m \u001b[0mPath\u001b[0m \u001b[0mto\u001b[0m \u001b[0mthe\u001b[0m \u001b[0mcsv\u001b[0m \u001b[0mfile\u001b[0m \u001b[0;32mwith\u001b[0m \u001b[0mannotations\u001b[0m\u001b[0;34m.\u001b[0m\u001b[0;34m\u001b[0m\u001b[0;34m\u001b[0m\u001b[0m\n\u001b[1;32m      5\u001b[0m         \u001b[0mroot_dir\u001b[0m \u001b[0;34m(\u001b[0m\u001b[0mstring\u001b[0m\u001b[0;34m)\u001b[0m\u001b[0;34m:\u001b[0m \u001b[0mDirectory\u001b[0m \u001b[0;32mwith\u001b[0m \u001b[0mall\u001b[0m \u001b[0mthe\u001b[0m \u001b[0mimages\u001b[0m\u001b[0;34m.\u001b[0m\u001b[0;34m\u001b[0m\u001b[0;34m\u001b[0m\u001b[0m\n",
      "\u001b[0;31mNameError\u001b[0m: name 'data' is not defined"
     ]
    }
   ],
   "source": [
    "from DataLoader import Dataset"
   ]
  },
  {
   "cell_type": "code",
   "execution_count": 27,
   "metadata": {},
   "outputs": [
    {
     "ename": "NameError",
     "evalue": "name 'Dataset' is not defined",
     "output_type": "error",
     "traceback": [
      "\u001b[0;31m---------------------------------------------------------------------------\u001b[0m",
      "\u001b[0;31mNameError\u001b[0m                                 Traceback (most recent call last)",
      "\u001b[0;32m<ipython-input-27-dd9a582e131c>\u001b[0m in \u001b[0;36m<module>\u001b[0;34m\u001b[0m\n\u001b[0;32m----> 1\u001b[0;31m \u001b[0mdataset\u001b[0m \u001b[0;34m=\u001b[0m \u001b[0mDataset\u001b[0m\u001b[0;34m(\u001b[0m\u001b[0;34m'csv.csv'\u001b[0m\u001b[0;34m)\u001b[0m\u001b[0;34m\u001b[0m\u001b[0;34m\u001b[0m\u001b[0m\n\u001b[0m",
      "\u001b[0;31mNameError\u001b[0m: name 'Dataset' is not defined"
     ]
    }
   ],
   "source": [
    "dataset = Dataset('csv.csv')"
   ]
  },
  {
   "cell_type": "code",
   "execution_count": 23,
   "metadata": {},
   "outputs": [],
   "source": [
    "import time"
   ]
  },
  {
   "cell_type": "code",
   "execution_count": 24,
   "metadata": {},
   "outputs": [
    {
     "ename": "NameError",
     "evalue": "name 'dataset' is not defined",
     "output_type": "error",
     "traceback": [
      "\u001b[0;31m---------------------------------------------------------------------------\u001b[0m",
      "\u001b[0;31mNameError\u001b[0m                                 Traceback (most recent call last)",
      "\u001b[0;32m<ipython-input-24-d6b8052a8c0b>\u001b[0m in \u001b[0;36m<module>\u001b[0;34m\u001b[0m\n\u001b[1;32m      1\u001b[0m \u001b[0mfig\u001b[0m \u001b[0;34m=\u001b[0m \u001b[0mplt\u001b[0m\u001b[0;34m.\u001b[0m\u001b[0mfigure\u001b[0m\u001b[0;34m(\u001b[0m\u001b[0;34m)\u001b[0m\u001b[0;34m\u001b[0m\u001b[0;34m\u001b[0m\u001b[0m\n\u001b[1;32m      2\u001b[0m \u001b[0;34m\u001b[0m\u001b[0m\n\u001b[0;32m----> 3\u001b[0;31m \u001b[0;32mfor\u001b[0m \u001b[0mi\u001b[0m \u001b[0;32min\u001b[0m \u001b[0mrange\u001b[0m\u001b[0;34m(\u001b[0m\u001b[0mlen\u001b[0m\u001b[0;34m(\u001b[0m\u001b[0mdataset\u001b[0m\u001b[0;34m)\u001b[0m\u001b[0;34m)\u001b[0m\u001b[0;34m:\u001b[0m\u001b[0;34m\u001b[0m\u001b[0;34m\u001b[0m\u001b[0m\n\u001b[0m\u001b[1;32m      4\u001b[0m     \u001b[0msample\u001b[0m \u001b[0;34m=\u001b[0m \u001b[0mdataset\u001b[0m\u001b[0;34m[\u001b[0m\u001b[0mi\u001b[0m\u001b[0;34m]\u001b[0m\u001b[0;34m\u001b[0m\u001b[0;34m\u001b[0m\u001b[0m\n\u001b[1;32m      5\u001b[0m     \u001b[0mprint\u001b[0m\u001b[0;34m(\u001b[0m\u001b[0mi\u001b[0m\u001b[0;34m,\u001b[0m \u001b[0msample\u001b[0m\u001b[0;34m[\u001b[0m\u001b[0;34m'image'\u001b[0m\u001b[0;34m]\u001b[0m\u001b[0;34m.\u001b[0m\u001b[0mshape\u001b[0m\u001b[0;34m,\u001b[0m \u001b[0msample\u001b[0m\u001b[0;34m[\u001b[0m\u001b[0;34m'label'\u001b[0m\u001b[0;34m]\u001b[0m\u001b[0;34m)\u001b[0m\u001b[0;34m\u001b[0m\u001b[0;34m\u001b[0m\u001b[0m\n",
      "\u001b[0;31mNameError\u001b[0m: name 'dataset' is not defined"
     ]
    },
    {
     "data": {
      "text/plain": [
       "<Figure size 432x288 with 0 Axes>"
      ]
     },
     "metadata": {},
     "output_type": "display_data"
    }
   ],
   "source": [
    "fig = plt.figure()\n",
    "\n",
    "for i in range(len(dataset)):\n",
    "    sample = dataset[i]\n",
    "    print(i, sample['image'].shape, sample['label'])\n",
    "\n",
    "    ax = plt.subplot(1, 4, i + 1)\n",
    "    plt.tight_layout()\n",
    "    ax.set_title('Sample #{}'.format(i))\n",
    "    ax.axis('off')\n",
    "    plt.imshow(sample['image'])\n",
    "\n",
    "    if i == 3:\n",
    "        plt.show()\n",
    "        break"
   ]
  },
  {
   "cell_type": "markdown",
   "metadata": {},
   "source": [
    "### See if the images are in the same size"
   ]
  },
  {
   "cell_type": "code",
   "execution_count": null,
   "metadata": {},
   "outputs": [],
   "source": []
  },
  {
   "cell_type": "code",
   "execution_count": null,
   "metadata": {},
   "outputs": [],
   "source": [
    "filename = os.path.join()\n",
    "img = Image.open(filename)\n",
    "print(img.size)"
   ]
  }
 ],
 "metadata": {
  "kernelspec": {
   "display_name": "Python 3",
   "language": "python",
   "name": "python3"
  },
  "language_info": {
   "codemirror_mode": {
    "name": "ipython",
    "version": 3
   },
   "file_extension": ".py",
   "mimetype": "text/x-python",
   "name": "python",
   "nbconvert_exporter": "python",
   "pygments_lexer": "ipython3",
   "version": "3.7.6"
  }
 },
 "nbformat": 4,
 "nbformat_minor": 2
}
